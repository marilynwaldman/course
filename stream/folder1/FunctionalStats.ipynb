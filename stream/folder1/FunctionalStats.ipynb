{
 "cells": [
  {
   "cell_type": "code",
   "execution_count": 71,
   "metadata": {},
   "outputs": [],
   "source": [
    "import numpy as np\n",
    "from functools import reduce\n",
    "from scipy.stats import kurtosis, skew"
   ]
  },
  {
   "cell_type": "markdown",
   "metadata": {},
   "source": [
    "# Statistics with Functional Programming"
   ]
  },
  {
   "cell_type": "markdown",
   "metadata": {},
   "source": [
    "In this exercise we will use imperative programming with Python to compute from a list of  N integers:\n",
    "\n",
    "   The mean - the first moment\n",
    "   \n",
    "        $\\mu = \\frac{1}{N} \\sum_{i=1}^N x_i.$\n",
    "        \n",
    "        \n",
    "  \n",
    "   The standard deviation - second moment\n",
    "  \n",
    "        $\\sigma = \\sqrt{\\frac{1}{N} \\sum_{i=1}^N (x_i - \\mu)^2}$\n",
    "        \n",
    "        \n",
    "        \n",
    "   The skew  - the third moment\n",
    "   \n",
    "        $\\gamma_1 = \\frac{1}{N} \\sum_{i=1}^N \\left[\\frac{x_i - \\mu}{\\sigma}\\right]^3$\n",
    "        \n",
    "        \n",
    "        \n",
    "   The kurtosis - the fourth moment\n",
    "  \n",
    "         $g_2 = \\Big\\{   \\frac{1}{N} \\sum_{i=1}^N \\left[\\frac{x_i - \\mu}{\\sigma}\\right]^4  \\Big\\} - 3$\n",
    "      "
   ]
  },
  {
   "cell_type": "code",
   "execution_count": 1,
   "metadata": {},
   "outputs": [],
   "source": [
    "def test_assert():\n",
    "    \"\"\"Test that assert is working.\n",
    "\n",
    "    Args:\n",
    "        None\n",
    "    Returns:\n",
    "        x with value 5\n",
    "    \"\"\"\n",
    "    x = 5\n",
    "    assert x == 5\n",
    "    return x\n",
    "    \n",
    "y = test_assert() \n",
    "assert y == 5"
   ]
  },
  {
   "cell_type": "markdown",
   "metadata": {},
   "source": [
    "# First Moment"
   ]
  },
  {
   "cell_type": "markdown",
   "metadata": {},
   "source": [
    "### Define a function, first_moment_term, to  compute the MEAN\n",
    "\n",
    " $\\mu = \\frac{1}{N} \\sum_{i=1}^N x_i.$\n",
    " \n",
    " We will:\n",
    " \n",
    " 1.  Map each term of the list to the correct moment\n",
    " 2.  Sum the transformed elements over N\n",
    " "
   ]
  },
  {
   "cell_type": "markdown",
   "metadata": {},
   "source": [
    "####  Define the transformation for the first moment terms \n",
    "    hint - it is the identity "
   ]
  },
  {
   "cell_type": "code",
   "execution_count": 60,
   "metadata": {},
   "outputs": [],
   "source": [
    "def first_moment_term(x):\n",
    "    \"\"\"Define the first moment term\n",
    "\n",
    "    Args:\n",
    "        x - An element of a list - a term\n",
    "    Returns:\n",
    "        transformed term - an identity in this case, x\n",
    "    \"\"\"\n",
    "    \n",
    "    return x   \n",
    "    \n"
   ]
  },
  {
   "cell_type": "code",
   "execution_count": 61,
   "metadata": {},
   "outputs": [
    {
     "name": "stdout",
     "output_type": "stream",
     "text": [
      "1\n"
     ]
    }
   ],
   "source": [
    "x = 1\n",
    "\n",
    "new_term = first_moment_term(x)\n",
    "\n",
    "print(new_term)\n",
    "\n",
    "assert new_term == 1"
   ]
  },
  {
   "cell_type": "code",
   "execution_count": 62,
   "metadata": {},
   "outputs": [],
   "source": [
    "def my_mean(my_list):\n",
    "    \"\"\"Define the first moment term\n",
    "\n",
    "    Args:\n",
    "        my_list - a list of integers\n",
    "        \n",
    "    Returns:\n",
    "        the mean of the list\n",
    "    \"\"\"\n",
    "    \n",
    "    n = len(my_list)\n",
    "    if n == 0:\n",
    "        return 0\n",
    "    transformed_list = map(lambda x : first_moment_term(x), my_list)\n",
    "    mean = reduce(lambda x, y : x + y, transformed_list)/n\n",
    "    \n",
    "    return mean \n",
    "    "
   ]
  },
  {
   "cell_type": "code",
   "execution_count": 63,
   "metadata": {},
   "outputs": [
    {
     "name": "stdout",
     "output_type": "stream",
     "text": [
      "2.0\n"
     ]
    }
   ],
   "source": [
    "test_list = [1,2,3] \n",
    "test_mean = my_mean(test_list)\n",
    "print(test_mean)\n",
    "a = np.array([1,2,3])\n",
    "assert test_mean == np.mean(a)"
   ]
  },
  {
   "cell_type": "markdown",
   "metadata": {},
   "source": [
    "# Second Moment"
   ]
  },
  {
   "cell_type": "markdown",
   "metadata": {},
   "source": [
    "### Define a function, second_moment_term, to compute the standard deviation\n",
    "\n",
    "$\\sigma = \\sqrt{\\frac{1}{N} \\sum_{i=1}^N (x_i - \\mu)^2}$\n",
    " \n",
    " We will:\n",
    " \n",
    " 1.  Map each term of the list to the correct moment\n",
    " 2.  Sum the transformed elements over N\n",
    " \n",
    " \n"
   ]
  },
  {
   "cell_type": "markdown",
   "metadata": {},
   "source": [
    "####  Define the transformation for the first moment terms \n",
    "\n",
    "$(x_i - \\mu)^2$\n",
    "   "
   ]
  },
  {
   "cell_type": "code",
   "execution_count": 41,
   "metadata": {},
   "outputs": [],
   "source": [
    "def second_moment_term(x, mu):\n",
    "    \"\"\"Define the first moment term\n",
    "\n",
    "    Args:\n",
    "        x - An element of a list - a term\n",
    "        mu - the mean\n",
    "    Returns:\n",
    "        transformed term - an identity in this case, (x - mu)**2\n",
    "    \"\"\"\n",
    "    \n",
    "    return (x - mu) ** 2  \n",
    "  "
   ]
  },
  {
   "cell_type": "code",
   "execution_count": 42,
   "metadata": {},
   "outputs": [],
   "source": [
    "val = 5\n",
    "mu = 3\n",
    "term = second_moment_term(x, mu)\n",
    "assert term == 4\n"
   ]
  },
  {
   "cell_type": "markdown",
   "metadata": {},
   "source": [
    "### Transform and reduce to get the standard deviation\n",
    "\n",
    "\n",
    "   $\\sigma = \\sqrt{\\frac{1}{N} \\sum_{i=1}^N (x_i - \\mu)^2}$\n",
    "   \n",
    "    \n",
    "   N = len(list)\n",
    "   \n",
    "   $\\mu$ is the mean\n",
    "   \n",
    "   \n",
    "##### Note:  Use Numpy for the square root  - \n",
    "\n",
    "      np.sqrt(x)\n",
    " "
   ]
  },
  {
   "cell_type": "code",
   "execution_count": 55,
   "metadata": {},
   "outputs": [],
   "source": [
    "def my_stdev(my_list, mu):\n",
    "    \"\"\"Define the first moment term\n",
    "\n",
    "    Args:\n",
    "        my_list - a list of integers\n",
    "        mu - the mean of the list\n",
    "        \n",
    "    Returns:\n",
    "        the standard deviation of the list\n",
    "    \"\"\"\n",
    "    \n",
    "    n = len(my_list)\n",
    "    if n == 0:\n",
    "        return 0\n",
    "    transformed_list = map(lambda x : second_moment_term(x, mu), my_list)\n",
    "    variance = reduce(lambda x, y : x + y, transformed_list)/n\n",
    "    \n",
    "    return np.sqrt(variance)\n",
    "    "
   ]
  },
  {
   "cell_type": "code",
   "execution_count": 64,
   "metadata": {},
   "outputs": [
    {
     "name": "stdout",
     "output_type": "stream",
     "text": [
      "2.0\n",
      "0.816496580927726\n",
      "0.816496580927726\n"
     ]
    }
   ],
   "source": [
    "test_list = [1,2,3] \n",
    "test_mean = my_mean(test_list)\n",
    "print(test_mean)\n",
    "test_stdev = my_stdev(test_list, test_mean)\n",
    "print(test_stdev)\n",
    "a = np.array([1,2,3])\n",
    "assert test_mean == np.mean(a)\n",
    "assert test_stdev == np.std(a)\n",
    "print(np.std(a))"
   ]
  },
  {
   "cell_type": "markdown",
   "metadata": {},
   "source": [
    "# Third Moment\n",
    "\n"
   ]
  },
  {
   "cell_type": "markdown",
   "metadata": {},
   "source": [
    "## Define a function, third_moment_term, to compute the Skew\n",
    "\n",
    "$\\gamma_1 = \\frac{1}{N} \\sum_{i=1}^N \\left[\\frac{x_i - \\mu}{\\sigma}\\right]^3$\n",
    "\n",
    "We will:\n",
    "\n",
    "Map each term of the list to the correct moment\n",
    "Sum the transformed elements over N\n"
   ]
  },
  {
   "cell_type": "code",
   "execution_count": 81,
   "metadata": {},
   "outputs": [],
   "source": [
    "def third_moment_term(x, mu, sigma):\n",
    "    \"\"\"Define the third moment term\n",
    "\n",
    "    Args:\n",
    "        x - An element of a list - a term\n",
    "        mu - the mean\n",
    "        sigma - the standard deviation\n",
    "    Returns:\n",
    "        transformed term - an identity in this case, ((x - mu)/sigma)**3\n",
    "    \"\"\"\n",
    "    \n",
    "    return ((x - mu)/sigma) ** 3  \n",
    "  "
   ]
  },
  {
   "cell_type": "code",
   "execution_count": 66,
   "metadata": {},
   "outputs": [],
   "source": [
    "x = 5\n",
    "mu = 3\n",
    "sigma = 1\n",
    "y = third_moment_term(x, mu, sigma)\n",
    "assert y == 8"
   ]
  },
  {
   "cell_type": "markdown",
   "metadata": {},
   "source": [
    "### Transform and reduce to obtain the skew\n",
    "\n",
    "\n",
    "   $\\gamma_1 = \\frac{1}{N} \\sum_{i=1}^N \\left[\\frac{x_i - \\mu}{\\sigma}\\right]^3$\n",
    "   \n",
    "    \n",
    "   N = len(list)\n",
    "   \n",
    "   $\\mu$ is the mean\n",
    "   \n",
    "   \n",
    "   $\\sigma$ is the standard deviation\n",
    "   \n",
    "   \n",
    "\n",
    " "
   ]
  },
  {
   "cell_type": "code",
   "execution_count": 82,
   "metadata": {},
   "outputs": [],
   "source": [
    "def my_skew(my_list, mu, sigma):\n",
    "    \"\"\"Compute the third moment, the skew\n",
    "\n",
    "    Args:\n",
    "        my_list - a list of integers\n",
    "        mu - the mean of the list\n",
    "        sigma - the standard deviation\n",
    "        \n",
    "    Returns:\n",
    "        the skew of the list\n",
    "    \"\"\"\n",
    "    \n",
    "    n = len(my_list)\n",
    "    if n == 0:\n",
    "        return 0\n",
    "    transformed_list = map(lambda x : third_moment_term(x, mu, sigma), my_list)\n",
    "    skew = reduce(lambda x, y : x + y, transformed_list)/n\n",
    "    \n",
    "    return skew\n",
    "    "
   ]
  },
  {
   "cell_type": "code",
   "execution_count": 73,
   "metadata": {},
   "outputs": [
    {
     "name": "stdout",
     "output_type": "stream",
     "text": [
      "2.0\n",
      "0.816496580927726\n",
      "0.0\n",
      "0.0\n"
     ]
    }
   ],
   "source": [
    "test_list = [1,2,3] \n",
    "test_mean = my_mean(test_list)\n",
    "print(test_mean)\n",
    "test_stdev = my_stdev(test_list, test_mean)\n",
    "print(test_stdev)\n",
    "test_skew = my_skew(test_list, test_mean, test_stdev)\n",
    "print(test_skew)\n",
    "a = np.array([1,2,3])\n",
    "assert test_mean == np.mean(a)\n",
    "assert test_stdev == np.std(a)\n",
    "assert test_skew == skew(a)\n",
    "print(skew(a))"
   ]
  },
  {
   "cell_type": "code",
   "execution_count": 29,
   "metadata": {},
   "outputs": [],
   "source": [
    "import unittest\n",
    "\n",
    "my_list = [1,2,3]\n",
    "new_list = list(map(lambda x : first_moment_element(x), my_list))\n",
    "\n",
    "\n",
    "assert len(my_list) == len(new_list) and sorted(my_list) == sorted(new_list)\n"
   ]
  },
  {
   "cell_type": "code",
   "execution_count": 30,
   "metadata": {},
   "outputs": [
    {
     "name": "stdout",
     "output_type": "stream",
     "text": [
      "2.0\n"
     ]
    }
   ],
   "source": [
    "from functools import reduce\n",
    "my_mean = reduce(lambda x, y : x + y, new_list)/len(new_list)\n",
    "print(my_mean)"
   ]
  },
  {
   "cell_type": "markdown",
   "metadata": {},
   "source": [
    "# Fourth Moment"
   ]
  },
  {
   "cell_type": "markdown",
   "metadata": {},
   "source": [
    "## Define a function, fourth_moment_term, to compute the kurtosis\n",
    "\n",
    "$g_2 = \\Big\\{   \\frac{1}{N} \\sum_{i=1}^N \\left[\\frac{x_i - \\mu}{\\sigma}\\right]^4  \\Big\\} - 3$\n",
    "\n",
    "We will:\n",
    "\n",
    "Map each term of the list to the correct moment\n",
    "Sum the transformed elements over N"
   ]
  },
  {
   "cell_type": "code",
   "execution_count": 88,
   "metadata": {},
   "outputs": [],
   "source": [
    "def fourth_moment_term(x, mu, sigma):\n",
    "    \"\"\"Define the fourth moment term\n",
    "\n",
    "    Args:\n",
    "        x - An element of a list - a term\n",
    "        mu - the mean\n",
    "        sigma - the standard deviation\n",
    "    Returns:\n",
    "        transformed term - an identity in this case, ((x - mu)/sigma)**4\n",
    "    \"\"\"\n",
    "    \n",
    "    return ((x - mu)/sigma) ** 4  \n",
    "  "
   ]
  },
  {
   "cell_type": "code",
   "execution_count": 89,
   "metadata": {},
   "outputs": [],
   "source": [
    "x = 5\n",
    "mu = 3\n",
    "sigma = 1\n",
    "y = fourth_moment_term(x, mu, sigma)\n",
    "assert y == 16"
   ]
  },
  {
   "cell_type": "markdown",
   "metadata": {},
   "source": [
    " ### Transform and reduce to obtain the kurtosis\n",
    "\n",
    "   $g_2 = \\Big\\{   \\frac{1}{N} \\sum_{i=1}^N \\left[\\frac{x_i - \\mu}{\\sigma}\\right]^4  \\Big\\} - 3$\n",
    "\n",
    "    \n",
    "   N = len(list)\n",
    "   \n",
    "   $\\mu$ is the mean\n",
    "   \n",
    "   \n",
    "   $\\sigma$ is the standard deviation\n",
    "   "
   ]
  },
  {
   "cell_type": "code",
   "execution_count": 106,
   "metadata": {},
   "outputs": [],
   "source": [
    "def my_kurtosis(my_list, mu, sigma):\n",
    "    \"\"\"Define the fourth moment, the kurtosis\n",
    "\n",
    "    Args:\n",
    "        my_list - a list of integers\n",
    "        mu - the mean of the list\n",
    "        sigma - the standard deviation\n",
    "        \n",
    "    Returns:\n",
    "        the skew of the list\n",
    "    \"\"\"\n",
    "    \n",
    "    n = len(my_list)\n",
    "    if n == 0:\n",
    "        return 0\n",
    "    transformed_list = map(lambda x : fourth_moment_term(x, mu, sigma), my_list)\n",
    "    kurtosis = reduce(lambda x, y : x + y, transformed_list)/n\n",
    "    \n",
    "    return kurtosis - 3\n",
    "    "
   ]
  },
  {
   "cell_type": "code",
   "execution_count": 107,
   "metadata": {},
   "outputs": [
    {
     "name": "stdout",
     "output_type": "stream",
     "text": [
      "2.0\n",
      "0.816496580927726\n",
      "0.0\n",
      "-1.5000000000000007\n"
     ]
    }
   ],
   "source": [
    "test_list = [1,2,3] \n",
    "test_mean = my_mean(test_list)\n",
    "print(test_mean)\n",
    "test_stdev = my_stdev(test_list, test_mean)\n",
    "print(test_stdev)\n",
    "test_skew = my_skew(test_list, test_mean, test_stdev)\n",
    "print(test_skew)\n",
    "test_kurtosis = my_kurtosis(test_list, test_mean, test_stdev)\n",
    "print(test_kurtosis)\n",
    "a = np.array([1,2,3])\n",
    "assert test_mean == np.mean(a)\n",
    "assert test_stdev == np.std(a)\n",
    "assert test_skew == skew(a)\n",
    "\n",
    "assert test_kurtosis - kurtosis(a) < np.finfo(np.float32).eps\n",
    "#assert test_kurtosis == kurtosis(a)\n"
   ]
  },
  {
   "cell_type": "markdown",
   "metadata": {},
   "source": [
    "### Sanity Check - compare with NUMPY"
   ]
  },
  {
   "cell_type": "code",
   "execution_count": null,
   "metadata": {},
   "outputs": [],
   "source": [
    "from scipy.stats import kurtosis, skew\n",
    "a = np.array([0,1,2,3,88,89,90,91])\n",
    "print(np.mean(a))\n",
    "print(np.std(a))\n",
    "print(skew(a))\n",
    "print(kurtosis(a))\n"
   ]
  },
  {
   "cell_type": "code",
   "execution_count": 108,
   "metadata": {},
   "outputs": [
    {
     "name": "stdout",
     "output_type": "stream",
     "text": [
      "45.5\n",
      "44.01420225336363\n",
      "0.0\n",
      "-1.9974204207134338\n"
     ]
    }
   ],
   "source": [
    "list1 = [0,1,2,3,88,89,90,91]\n",
    "mu = my_mean(list1)\n",
    "sigma = my_stdev(list1, mu)\n",
    "my_skew = my_skew(list1, mu, sigma)\n",
    "my_kurtosis = my_kurtosis(list1, mu, sigma)\n",
    "\n",
    "print(mu)\n",
    "print(sigma)\n",
    "print(my_skew)\n",
    "print(my_kurtosis)"
   ]
  },
  {
   "cell_type": "code",
   "execution_count": 109,
   "metadata": {},
   "outputs": [
    {
     "name": "stdout",
     "output_type": "stream",
     "text": [
      "1.1920929e-07\n",
      "2.220446049250313e-16\n"
     ]
    }
   ],
   "source": [
    "print(np.finfo(np.float32).eps)\n",
    "print(np.finfo(np.float).eps)"
   ]
  },
  {
   "cell_type": "code",
   "execution_count": 111,
   "metadata": {},
   "outputs": [
    {
     "ename": "AssertionError",
     "evalue": "",
     "output_type": "error",
     "traceback": [
      "\u001b[0;31m---------------------------------------------------------------------------\u001b[0m",
      "\u001b[0;31mAssertionError\u001b[0m                            Traceback (most recent call last)",
      "\u001b[0;32m<ipython-input-111-bdca6da58355>\u001b[0m in \u001b[0;36m<module>\u001b[0;34m\u001b[0m\n\u001b[1;32m      6\u001b[0m \u001b[0;32massert\u001b[0m \u001b[0mmy_skew\u001b[0m \u001b[0;34m-\u001b[0m \u001b[0mskew\u001b[0m\u001b[0;34m(\u001b[0m\u001b[0ma\u001b[0m\u001b[0;34m)\u001b[0m \u001b[0;34m<\u001b[0m \u001b[0mnp\u001b[0m\u001b[0;34m.\u001b[0m\u001b[0mfinfo\u001b[0m\u001b[0;34m(\u001b[0m\u001b[0mnp\u001b[0m\u001b[0;34m.\u001b[0m\u001b[0mfloat\u001b[0m\u001b[0;34m)\u001b[0m\u001b[0;34m.\u001b[0m\u001b[0meps\u001b[0m\u001b[0;34m\u001b[0m\u001b[0;34m\u001b[0m\u001b[0m\n\u001b[1;32m      7\u001b[0m \u001b[0;32massert\u001b[0m \u001b[0mmy_kurtosis\u001b[0m \u001b[0;34m-\u001b[0m \u001b[0mkurtosis\u001b[0m\u001b[0;34m(\u001b[0m\u001b[0ma\u001b[0m\u001b[0;34m)\u001b[0m \u001b[0;34m<\u001b[0m \u001b[0mnp\u001b[0m\u001b[0;34m.\u001b[0m\u001b[0mfinfo\u001b[0m\u001b[0;34m(\u001b[0m\u001b[0mnp\u001b[0m\u001b[0;34m.\u001b[0m\u001b[0mfloat32\u001b[0m\u001b[0;34m)\u001b[0m\u001b[0;34m.\u001b[0m\u001b[0meps\u001b[0m\u001b[0;34m\u001b[0m\u001b[0;34m\u001b[0m\u001b[0m\n\u001b[0;32m----> 8\u001b[0;31m \u001b[0;32massert\u001b[0m \u001b[0mmy_kurtosis\u001b[0m \u001b[0;34m-\u001b[0m \u001b[0mkurtosis\u001b[0m\u001b[0;34m(\u001b[0m\u001b[0ma\u001b[0m\u001b[0;34m)\u001b[0m \u001b[0;34m<\u001b[0m \u001b[0mnp\u001b[0m\u001b[0;34m.\u001b[0m\u001b[0mfinfo\u001b[0m\u001b[0;34m(\u001b[0m\u001b[0mnp\u001b[0m\u001b[0;34m.\u001b[0m\u001b[0mfloat\u001b[0m\u001b[0;34m)\u001b[0m\u001b[0;34m.\u001b[0m\u001b[0meps\u001b[0m\u001b[0;34m\u001b[0m\u001b[0;34m\u001b[0m\u001b[0m\n\u001b[0m",
      "\u001b[0;31mAssertionError\u001b[0m: "
     ]
    }
   ],
   "source": [
    "from scipy.stats import kurtosis \n",
    "from scipy.stats import skew \n",
    "a = np.array([0,1,2,3,88,89,90,91])\n",
    "assert mu - np.mean(a) < np.finfo(np.float).eps\n",
    "assert sigma - np.std(a) < np.finfo(np.float).eps\n",
    "assert my_skew - skew(a) < np.finfo(np.float).eps\n",
    "assert my_kurtosis - kurtosis(a) < np.finfo(np.float32).eps\n",
    "assert my_kurtosis - kurtosis(a) < np.finfo(np.float).eps"
   ]
  },
  {
   "cell_type": "code",
   "execution_count": null,
   "metadata": {},
   "outputs": [],
   "source": []
  }
 ],
 "metadata": {
  "kernelspec": {
   "display_name": "Python 3",
   "language": "python",
   "name": "python3"
  },
  "language_info": {
   "codemirror_mode": {
    "name": "ipython",
    "version": 3
   },
   "file_extension": ".py",
   "mimetype": "text/x-python",
   "name": "python",
   "nbconvert_exporter": "python",
   "pygments_lexer": "ipython3",
   "version": "3.6.7"
  }
 },
 "nbformat": 4,
 "nbformat_minor": 2
}
