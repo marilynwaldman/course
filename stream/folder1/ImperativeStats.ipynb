{
 "cells": [
  {
   "cell_type": "code",
   "execution_count": 1,
   "metadata": {},
   "outputs": [],
   "source": [
    "import numpy as np\n",
    "import functools\n",
    "from functools import reduce\n",
    "from scipy.stats import kurtosis, skew\n",
    "import pandas as pd\n",
    "import seaborn as sns\n",
    "import matplotlib.pyplot as plt\n",
    "from scipy import stats"
   ]
  },
  {
   "cell_type": "markdown",
   "metadata": {},
   "source": [
    "# Statistics with Imperative Programming"
   ]
  },
  {
   "cell_type": "markdown",
   "metadata": {},
   "source": [
    "In this exercise we will use imperative programming with Python to compute from a list of  N integers:\n",
    "\n",
    "   - The mean - the first moment\n",
    "   \n",
    "   $\\mu = \\frac{1}{N} \\sum_{i=1}^N x_i.$\n",
    "        \n",
    "        \n",
    "  \n",
    "   - The standard deviation - second moment\n",
    "  \n",
    "   $\\sigma = \\sqrt{\\frac{1}{N} \\sum_{i=1}^N (x_i - \\mu)^2}$\n",
    "        \n",
    "        \n",
    "        \n",
    "   - The skew  - the third moment\n",
    "   \n",
    "   $\\gamma_1 = \\frac{1}{N} \\sum_{i=1}^N \\left[\\frac{x_i - \\mu}{\\sigma}\\right]^3$\n",
    "        \n",
    "        \n",
    "        \n",
    "   - The kurtosis - the fourth moment\n",
    "  \n",
    "   $\\gamma_2 = \\Big\\{   \\frac{1}{N} \\sum_{i=1}^N \\left[\\frac{x_i - \\mu}{\\sigma}\\right]^4  \\Big\\} - 3$\n",
    "        "
   ]
  },
  {
   "cell_type": "code",
   "execution_count": 2,
   "metadata": {},
   "outputs": [],
   "source": [
    "def test_assert():\n",
    "    \"\"\"Test that assert is working.\n",
    "\n",
    "    Args:\n",
    "        None\n",
    "    Returns:\n",
    "        x with value 5\n",
    "    \"\"\"\n",
    "    x = 5\n",
    "    assert x == 5\n",
    "    return x\n",
    "    \n",
    "y = test_assert() \n",
    "assert y == 5"
   ]
  },
  {
   "cell_type": "markdown",
   "metadata": {},
   "source": [
    "# Define test data set X"
   ]
  },
  {
   "cell_type": "code",
   "execution_count": 3,
   "metadata": {},
   "outputs": [
    {
     "name": "stdout",
     "output_type": "stream",
     "text": [
      "[ 0.44122749 -0.33087015  2.43077119 -0.25209213  0.10960984  1.58248112\n",
      " -0.9092324  -0.59163666  0.18760323 -0.32986996 -1.19276461 -0.20487651\n",
      " -0.35882895  0.6034716  -1.66478853 -0.70017904  1.15139101  1.85733101\n",
      " -1.51117956  0.64484751 -0.98060789 -0.85685315 -0.87187918 -0.42250793\n",
      "  0.99643983  0.71242127  0.05914424 -0.36331088  0.00328884 -0.10593044\n",
      "  0.79305332 -0.63157163 -0.00619491 -0.10106761 -0.05230815  0.24921766\n",
      "  0.19766009  1.33484857 -0.08687561  1.56153229 -0.30585302 -0.47773142\n",
      "  0.10073819  0.35543847  0.26961241  1.29196338  1.13934298  0.4944404\n",
      " -0.33633626 -0.10061435  1.41339802  0.22125412 -1.31077313 -0.68956523\n",
      " -0.57751323  1.15220477 -0.10716398  2.26010677  0.65661947  0.12480683\n",
      " -0.43570392  0.97217931 -0.24071114 -0.82412345  0.56813272  0.01275832\n",
      "  1.18906073 -0.07359332 -2.85968797  0.7893664  -1.87774088  1.53875615\n",
      "  1.82136474 -0.42703139 -1.16470191 -1.39707402  0.87265462 -0.20211818\n",
      " -0.59835993 -0.2434197   2.08851469  0.34691933  0.74572695  0.77690759\n",
      "  1.01842113  1.06135144 -0.71046645 -0.2151878  -0.76076031 -0.71116323\n",
      "  1.14150774 -0.50175555 -0.07915136 -0.69282634 -0.59340277  0.78823794\n",
      " -0.44542999 -0.48212019  0.49355766  0.50048733]\n"
     ]
    },
    {
     "name": "stderr",
     "output_type": "stream",
     "text": [
      "/opt/conda/lib/python3.6/site-packages/scipy/stats/stats.py:1713: FutureWarning: Using a non-tuple sequence for multidimensional indexing is deprecated; use `arr[tuple(seq)]` instead of `arr[seq]`. In the future this will be interpreted as an array index, `arr[np.array(seq)]`, which will result either in an error or a different result.\n",
      "  return np.add.reduce(sorted[indexer] * weights, axis=axis) / sumval\n"
     ]
    },
    {
     "data": {
      "image/png": "[encoded data removed]",
      "text/plain": [
       "<Figure size 432x288 with 1 Axes>"
      ]
     },
     "metadata": {},
     "output_type": "display_data"
    }
   ],
   "source": [
    "# Python variables can be capital letters\n",
    "np.random.seed(5)\n",
    "X = np.random.normal(size=100)\n",
    "sns.set(color_codes=True)\n",
    "sns.distplot(X)\n",
    "print(X)\n"
   ]
  },
  {
   "cell_type": "markdown",
   "metadata": {},
   "source": [
    "# First Moment - the MEAN"
   ]
  },
  {
   "cell_type": "markdown",
   "metadata": {},
   "source": [
    "### Define a function first_moment that computes the MEAN\n",
    "\n",
    " $\\mu = \\frac{1}{N} \\sum_{i=1}^N x_i.$"
   ]
  },
  {
   "cell_type": "code",
   "execution_count": 4,
   "metadata": {},
   "outputs": [],
   "source": [
    "def first_moment(list):\n",
    "    \"\"\"Compute the first moment - the mean.\n",
    "\n",
    "    Args:\n",
    "        list of integers of size n\n",
    "    Returns:\n",
    "        mean of the list\n",
    "    \"\"\"\n",
    "    n = len(list)\n",
    "    if n == 0:\n",
    "        return 0\n",
    "    sum = 0.0\n",
    "    for i in range(len(list)):\n",
    "        sum = sum + list[i]\n",
    "    return sum/n    \n",
    "    \n"
   ]
  },
  {
   "cell_type": "code",
   "execution_count": 5,
   "metadata": {},
   "outputs": [
    {
     "name": "stdout",
     "output_type": "stream",
     "text": [
      "1.5\n"
     ]
    }
   ],
   "source": [
    "l = [1,2]\n",
    "mu = first_moment(l)\n",
    "print(mu)\n",
    "\n",
    "assert mu == 1.5"
   ]
  },
  {
   "cell_type": "markdown",
   "metadata": {},
   "source": [
    "Make sure the empty list runs - N=0"
   ]
  },
  {
   "cell_type": "code",
   "execution_count": 6,
   "metadata": {},
   "outputs": [
    {
     "name": "stdout",
     "output_type": "stream",
     "text": [
      "0\n"
     ]
    }
   ],
   "source": [
    "l = []\n",
    "mu_empty = first_moment(l)\n",
    "print(mu_empty)\n",
    "\n",
    "assert mu_empty == 0.0"
   ]
  },
  {
   "cell_type": "markdown",
   "metadata": {},
   "source": [
    "# Second Moment - Standard Deviation"
   ]
  },
  {
   "cell_type": "markdown",
   "metadata": {},
   "source": [
    "### Define a function second_moment that computes the Standard Deviation\n",
    "\n",
    "\n",
    "   $\\sigma = \\sqrt{\\frac{1}{N} \\sum_{i=1}^N (x_i - \\mu)^2}$\n",
    "   \n",
    "    \n",
    "   N = len(list)\n",
    "   \n",
    "   $\\mu$ is the mean\n",
    "   \n",
    "   \n",
    "##### Note:  Use Numpy for the square root  - \n",
    "\n",
    "      np.sqrt(x)\n",
    " "
   ]
  },
  {
   "cell_type": "code",
   "execution_count": 7,
   "metadata": {},
   "outputs": [],
   "source": [
    "import numpy as np\n",
    "def second_moment(list, mu):\n",
    "    \"\"\"Compute the second moment - the variance.\n",
    "\n",
    "    Args:\n",
    "        list of integers of size n\n",
    "        mean - mean of the list\n",
    "    Returns:\n",
    "        second moment about the mean - the standard deviation\n",
    "    \"\"\"\n",
    "    n = len(list)\n",
    "    if n == 0 :\n",
    "        return 0\n",
    "    sum = 0.0\n",
    "    for i in range(len(list)):\n",
    "        sum = sum + (list[i] - mu) ** 2\n",
    "    return np.sqrt(sum/(n))    \n",
    "    \n",
    "    "
   ]
  },
  {
   "cell_type": "code",
   "execution_count": 8,
   "metadata": {},
   "outputs": [
    {
     "name": "stdout",
     "output_type": "stream",
     "text": [
      "0.5\n"
     ]
    }
   ],
   "source": [
    "l = [1 , 2]\n",
    "mu = first_moment(l)\n",
    "sigma = second_moment(l, mu)\n",
    "assert sigma == 0.5\n",
    "print(sigma)"
   ]
  },
  {
   "cell_type": "markdown",
   "metadata": {},
   "source": [
    "# Third Moment - the Skew"
   ]
  },
  {
   "cell_type": "markdown",
   "metadata": {},
   "source": [
    "### Define a function, third_moment, that computes the Skew\n",
    "\n",
    "\n",
    "   \n",
    "   $\\gamma_1 = \\frac{1}{N} \\sum_{i=1}^N \\left[\\frac{x_i - \\mu}{\\sigma}\\right]^3$\n",
    "   \n",
    "   \n",
    "  \n",
    "   \n",
    "   N = len(list)\n",
    "   \n",
    "   $\\mu$ is the mean\n",
    "   \n",
    "   $\\sigma$ is the standard deviation\n",
    "   \n",
    "   \n",
    " "
   ]
  },
  {
   "cell_type": "code",
   "execution_count": 9,
   "metadata": {},
   "outputs": [],
   "source": [
    "import numpy as np\n",
    "def third_moment(list, mu, sigma):\n",
    "    \"\"\"Compute the third moment - the skew.\n",
    "\n",
    "    Args:\n",
    "        list of integers of size n\n",
    "        mu - mean  of the list\n",
    "        sigma - standard deviation of the list\n",
    "    Returns:\n",
    "        third moment about the mean - the skew\n",
    "    \"\"\"\n",
    "    n = len(list)\n",
    "    if n == 0 :\n",
    "        return 0\n",
    "    sum = 0.0\n",
    "    for i in range(len(list)):\n",
    "        sum = sum + ((list[i] - mu)/sigma) ** 3\n",
    "    return sum/n    \n",
    "    \n"
   ]
  },
  {
   "cell_type": "code",
   "execution_count": 10,
   "metadata": {},
   "outputs": [
    {
     "name": "stdout",
     "output_type": "stream",
     "text": [
      "0.0\n"
     ]
    }
   ],
   "source": [
    "    \n",
    "l = [1 , 2]\n",
    "mu = first_moment(l)\n",
    "sigma = second_moment(l, mu)\n",
    "gamma_1 = third_moment(l, mu, sigma)\n",
    "print(gamma_1)\n",
    "\n",
    "assert gamma_1 == 0.0"
   ]
  },
  {
   "cell_type": "markdown",
   "metadata": {},
   "source": [
    "# Fourth Moment"
   ]
  },
  {
   "cell_type": "markdown",
   "metadata": {},
   "source": [
    "### Define a function, fourth_moment,  to compute the Kurtosis\n",
    "\n",
    "\n",
    "   \n",
    "   $\\gamma_2 = \\Big\\{   \\frac{1}{N} \\sum_{i=1}^N \\left[\\frac{x_i - \\mu}{\\sigma}\\right]^4  \\Big\\} - 3$\n",
    "   \n",
    "   \n",
    "  \n",
    "   \n",
    "   N = len(list)\n",
    "   \n",
    "   $\\mu$ is the mean\n",
    "   \n",
    "   $\\sigma$ is the standard deviation\n",
    "   "
   ]
  },
  {
   "cell_type": "code",
   "execution_count": 11,
   "metadata": {},
   "outputs": [],
   "source": [
    "import numpy as np\n",
    "def fourth_moment(list, mu, sigma):\n",
    "    \"\"\"Compute the fourth moment - the kurtosis.\n",
    "\n",
    "    Args:\n",
    "        list of integers of size n\n",
    "        mu - mean of the list\n",
    "        sigma - standard deviation of the list\n",
    "    Returns:\n",
    "        fourth moment about the mean - the skew\n",
    "    \"\"\"\n",
    "    n = len(list)\n",
    "    if n == 0 :\n",
    "        return 0\n",
    "    sum = 0.0\n",
    "    for i in range(len(list)):\n",
    "        sum = sum + ((list[i] - mu)/sigma) ** 4\n",
    "    return sum/n  - 3  \n",
    "    \n"
   ]
  },
  {
   "cell_type": "code",
   "execution_count": 12,
   "metadata": {},
   "outputs": [
    {
     "name": "stdout",
     "output_type": "stream",
     "text": [
      "0.0\n"
     ]
    }
   ],
   "source": [
    "l = [1 , 2]\n",
    "gamma_2 = third_moment(l, mu, sigma)\n",
    "print(gamma_2)\n",
    "\n",
    "assert gamma_2 == 0"
   ]
  },
  {
   "cell_type": "markdown",
   "metadata": {},
   "source": [
    "### Sanity Check - compare with NUMPY"
   ]
  },
  {
   "cell_type": "code",
   "execution_count": 13,
   "metadata": {},
   "outputs": [
    {
     "name": "stdout",
     "output_type": "stream",
     "text": [
      "45.5\n",
      "44.01420225336363\n",
      "0.0\n",
      "-1.997420420713434\n"
     ]
    }
   ],
   "source": [
    "from scipy.stats import kurtosis, skew\n",
    "a = np.array([0,1,2,3,88,89,90,91])\n",
    "print(np.mean(a))\n",
    "print(np.std(a))\n",
    "print(skew(a))\n",
    "print(kurtosis(a))\n"
   ]
  },
  {
   "cell_type": "code",
   "execution_count": 14,
   "metadata": {},
   "outputs": [
    {
     "name": "stdout",
     "output_type": "stream",
     "text": [
      "45.5\n",
      "44.01420225336363\n",
      "0.0\n",
      "-1.9974204207134338\n"
     ]
    }
   ],
   "source": [
    "list1 = [0,1,2,3,88,89,90,91]\n",
    "mu = first_moment(list1)\n",
    "sigma = second_moment(list1, mu)\n",
    "gamma_1 = third_moment(list1, mu, sigma)\n",
    "gamma_2 = fourth_moment(list1, mu, sigma)\n",
    "\n",
    "print(mu)\n",
    "print(sigma)\n",
    "print(gamma_1)\n",
    "print(gamma_2)"
   ]
  },
  {
   "cell_type": "code",
   "execution_count": 15,
   "metadata": {},
   "outputs": [
    {
     "name": "stdout",
     "output_type": "stream",
     "text": [
      "1.1920929e-07\n",
      "2.220446049250313e-16\n"
     ]
    }
   ],
   "source": [
    "print(np.finfo(np.float32).eps)\n",
    "print(np.finfo(np.float).eps)"
   ]
  },
  {
   "cell_type": "code",
   "execution_count": 16,
   "metadata": {},
   "outputs": [],
   "source": [
    "from scipy.stats import kurtosis \n",
    "from scipy.stats import skew \n",
    "assert mu - np.mean(a) <= np.finfo(np.float).eps\n",
    "assert sigma - np.std(a) <= np.finfo(np.float).eps\n",
    "assert gamma_1 - skew(a) <= np.finfo(np.float32).eps\n",
    "assert gamma_2 - kurtosis(a) <= np.finfo(np.float32).eps\n"
   ]
  },
  {
   "cell_type": "markdown",
   "metadata": {},
   "source": [
    "# Compute Stats for X"
   ]
  },
  {
   "cell_type": "code",
   "execution_count": 17,
   "metadata": {},
   "outputs": [
    {
     "name": "stdout",
     "output_type": "stream",
     "text": [
      "0.09154664386777674\n",
      "0.9309767032155012\n",
      "0.06293016891399204\n",
      "0.32487940670340043\n"
     ]
    }
   ],
   "source": [
    "mu = first_moment(X)\n",
    "print(mu)\n",
    "sigma = second_moment(X, mu)\n",
    "print(sigma)\n",
    "gamma_1 = third_moment(X, mu, sigma)\n",
    "print(gamma_1)\n",
    "gamma_2 = fourth_moment(X, mu, sigma)\n",
    "print(gamma_2)\n"
   ]
  },
  {
   "cell_type": "code",
   "execution_count": 18,
   "metadata": {},
   "outputs": [
    {
     "name": "stdout",
     "output_type": "stream",
     "text": [
      "Congratulations you passed\n"
     ]
    }
   ],
   "source": [
    "a = np.array(list(X))\n",
    "assert mu - np.mean(a) <= np.finfo(np.float).eps\n",
    "assert sigma - np.std(a) <= np.finfo(np.float).eps\n",
    "assert gamma_1 - skew(a) <= np.finfo(np.float).eps\n",
    "assert gamma_2 - kurtosis(a) <= np.finfo(np.float32).eps\n",
    "print(\"Congratulations you passed\")"
   ]
  },
  {
   "cell_type": "code",
   "execution_count": null,
   "metadata": {},
   "outputs": [],
   "source": []
  }
 ],
 "metadata": {
  "kernelspec": {
   "display_name": "Python 3",
   "language": "python",
   "name": "python3"
  },
  "language_info": {
   "codemirror_mode": {
    "name": "ipython",
    "version": 3
   },
   "file_extension": ".py",
   "mimetype": "text/x-python",
   "name": "python",
   "nbconvert_exporter": "python",
   "pygments_lexer": "ipython3",
   "version": "3.6.7"
  }
 },
 "nbformat": 4,
 "nbformat_minor": 2
}
