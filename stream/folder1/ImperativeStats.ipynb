{
 "cells": [
  {
   "cell_type": "markdown",
   "metadata": {},
   "source": [
    "# Statistics with Imperative Programming"
   ]
  },
  {
   "cell_type": "markdown",
   "metadata": {},
   "source": [
    "In this exercise we will use imperative programming with Python to compute from a list of  N integers:\n",
    "\n",
    "   The mean - the first moment\n",
    "   \n",
    "        $\\mu = \\frac{1}{N} \\sum_{i=1}^N x_i.$\n",
    "        \n",
    "        \n",
    "  \n",
    "   The standard deviation - second moment\n",
    "  \n",
    "        $\\sigma = \\sqrt{\\frac{1}{N} \\sum_{i=1}^N (x_i - \\mu)^2}$\n",
    "        \n",
    "        \n",
    "        \n",
    "   The skew  - the third moment\n",
    "   \n",
    "        $\\gamma_1 = \\frac{1}{N} \\sum_{i=1}^N \\left[\\frac{x_i - \\mu}{\\sigma}\\right]^3$\n",
    "        \n",
    "        \n",
    "        \n",
    "   The kurtosis - the fourth moment\n",
    "  \n",
    "         $g_2 = \\Big\\{   \\frac{1}{N} \\sum_{i=1}^N \\left[\\frac{x_i - \\mu}{\\sigma}\\right]^4  \\Big\\} - 3$\n",
    "         \n",
    "         \n",
    "         "
   ]
  },
  {
   "cell_type": "code",
   "execution_count": 1,
   "metadata": {},
   "outputs": [],
   "source": [
    "def test_assert():\n",
    "    \"\"\"Test that assert is working.\n",
    "\n",
    "    Args:\n",
    "        None\n",
    "    Returns:\n",
    "        x with value 5\n",
    "    \"\"\"\n",
    "    x = 5\n",
    "    assert x == 5\n",
    "    return x\n",
    "    \n",
    "y = test_assert() \n",
    "assert y == 5"
   ]
  },
  {
   "cell_type": "markdown",
   "metadata": {},
   "source": [
    "# First Moment - the MEAN"
   ]
  },
  {
   "cell_type": "markdown",
   "metadata": {},
   "source": [
    "### Define a function first_moment that computes the MEAN\n",
    "\n",
    " $\\mu = \\frac{1}{N} \\sum_{i=1}^N x_i.$"
   ]
  },
  {
   "cell_type": "code",
   "execution_count": 2,
   "metadata": {},
   "outputs": [],
   "source": [
    "def first_moment(list):\n",
    "    \"\"\"Compute the first moment - the mean.\n",
    "\n",
    "    Args:\n",
    "        list of integers of size n\n",
    "    Returns:\n",
    "        mean of the list\n",
    "    \"\"\"\n",
    "    n = len(list)\n",
    "    if n == 0:\n",
    "        return 0\n",
    "    sum = 0.0\n",
    "    for i in range(len(list)):\n",
    "        sum = sum + list[i]\n",
    "    return sum/n    \n",
    "    \n"
   ]
  },
  {
   "cell_type": "code",
   "execution_count": 5,
   "metadata": {},
   "outputs": [
    {
     "name": "stdout",
     "output_type": "stream",
     "text": [
      "1.5\n"
     ]
    }
   ],
   "source": [
    "l = [1,2]\n",
    "mean = first_moment(l)\n",
    "print(mean)\n",
    "\n",
    "assert mean == 1.5"
   ]
  },
  {
   "cell_type": "markdown",
   "metadata": {},
   "source": [
    "Make sure the empty list runs - N=0"
   ]
  },
  {
   "cell_type": "code",
   "execution_count": 6,
   "metadata": {},
   "outputs": [
    {
     "name": "stdout",
     "output_type": "stream",
     "text": [
      "1.5\n"
     ]
    }
   ],
   "source": [
    "l = []\n",
    "mean_empty = first_moment(l)\n",
    "print(mean)\n",
    "\n",
    "assert mean_empty == 0.0"
   ]
  },
  {
   "cell_type": "markdown",
   "metadata": {},
   "source": [
    "# Second Moment - Standard Deviation"
   ]
  },
  {
   "cell_type": "markdown",
   "metadata": {},
   "source": [
    "### Define a function second_moment that computes the Standard Deviation\n",
    "\n",
    "\n",
    "   $\\sigma = \\sqrt{\\frac{1}{N} \\sum_{i=1}^N (x_i - \\mu)^2}$\n",
    "   \n",
    "    \n",
    "   N = len(list)\n",
    "   \n",
    "   $\\mu$ is the mean\n",
    "   \n",
    "   \n",
    "##### Note:  Use Numpy for the square root  - \n",
    "\n",
    "      np.sqrt(x)\n",
    " "
   ]
  },
  {
   "cell_type": "code",
   "execution_count": 7,
   "metadata": {},
   "outputs": [],
   "source": [
    "import numpy as np\n",
    "def second_moment(list, mean):\n",
    "    \"\"\"Compute the second moment - the variance.\n",
    "\n",
    "    Args:\n",
    "        list of integers of size n\n",
    "        mean - mean of the list\n",
    "    Returns:\n",
    "        second moment about the mean - the standard deviation\n",
    "    \"\"\"\n",
    "    n = len(list)\n",
    "    if n == 0 :\n",
    "        return 0\n",
    "    sum = 0.0\n",
    "    for i in range(len(list)):\n",
    "        sum = sum + (list[i] - mean) ** 2\n",
    "    return np.sqrt(sum/(n))    \n",
    "    \n",
    "    "
   ]
  },
  {
   "cell_type": "code",
   "execution_count": 8,
   "metadata": {},
   "outputs": [
    {
     "name": "stdout",
     "output_type": "stream",
     "text": [
      "0.5\n"
     ]
    }
   ],
   "source": [
    "l = [1 , 2]\n",
    "mean = first_moment(l)\n",
    "std = second_moment(l, mean)\n",
    "assert std == 0.5\n",
    "print(std)"
   ]
  },
  {
   "cell_type": "markdown",
   "metadata": {},
   "source": [
    "# Third Moment - the Skew"
   ]
  },
  {
   "cell_type": "markdown",
   "metadata": {},
   "source": [
    "### Define a function, third_moment, that computes the Skew\n",
    "\n",
    "\n",
    "   \n",
    "   $\\gamma_1 = \\frac{1}{N} \\sum_{i=1}^N \\left[\\frac{x_i - \\mu}{\\sigma}\\right]^3$\n",
    "   \n",
    "   \n",
    "  \n",
    "   \n",
    "   N = len(list)\n",
    "   \n",
    "   $\\mu$ is the mean\n",
    "   \n",
    "   $\\sigma$ is the standard deviation\n",
    "   \n",
    "   \n",
    " "
   ]
  },
  {
   "cell_type": "code",
   "execution_count": 9,
   "metadata": {},
   "outputs": [],
   "source": [
    "import numpy as np\n",
    "def third_moment(list, mean, std):\n",
    "    \"\"\"Compute the third moment - the skew.\n",
    "\n",
    "    Args:\n",
    "        list of integers of size n\n",
    "        mean  of the list\n",
    "        standard deviation of the list\n",
    "    Returns:\n",
    "        third moment about the mean - the skew\n",
    "    \"\"\"\n",
    "    n = len(list)\n",
    "    if n == 0 :\n",
    "        return 0\n",
    "    sum = 0.0\n",
    "    for i in range(len(list)):\n",
    "        sum = sum + ((list[i] - mean)/std) ** 3\n",
    "    return sum/n    \n",
    "    \n"
   ]
  },
  {
   "cell_type": "code",
   "execution_count": 10,
   "metadata": {},
   "outputs": [
    {
     "name": "stdout",
     "output_type": "stream",
     "text": [
      "0.0\n"
     ]
    }
   ],
   "source": [
    "    \n",
    "l = [1 , 2]\n",
    "mean = first_moment(l)\n",
    "std = second_moment(l, mean)\n",
    "skew = third_moment(l, mean, std)\n",
    "print(skew)\n",
    "\n",
    "assert skew == 0.0"
   ]
  },
  {
   "cell_type": "markdown",
   "metadata": {},
   "source": [
    "# Fourth Moment"
   ]
  },
  {
   "cell_type": "markdown",
   "metadata": {},
   "source": [
    "### Define a function, fourth_moment,  to compute the Kurtosis\n",
    "\n",
    "\n",
    "   \n",
    "   $g_2 = \\Big\\{   \\frac{1}{N} \\sum_{i=1}^N \\left[\\frac{x_i - \\mu}{\\sigma}\\right]^4  \\Big\\} - 3$\n",
    "   \n",
    "   \n",
    "  \n",
    "   \n",
    "   N = len(list)\n",
    "   \n",
    "   $\\mu$ is the mean\n",
    "   \n",
    "   $\\sigma$ is the standard deviation\n",
    "   "
   ]
  },
  {
   "cell_type": "code",
   "execution_count": 11,
   "metadata": {},
   "outputs": [],
   "source": [
    "import numpy as np\n",
    "def fourth_moment(list, mean, std):\n",
    "    \"\"\"Compute the fourth moment - the kurtosis.\n",
    "\n",
    "    Args:\n",
    "        list of integers of size n\n",
    "        mean of the list\n",
    "        standard deviation of the list\n",
    "    Returns:\n",
    "        fourth moment about the mean - the skew\n",
    "    \"\"\"\n",
    "    n = len(list)\n",
    "    if n == 0 :\n",
    "        return 0\n",
    "    sum = 0.0\n",
    "    for i in range(len(list)):\n",
    "        sum = sum + ((list[i] - mean)/std) ** 4\n",
    "    return sum/n  - 3  \n",
    "    \n"
   ]
  },
  {
   "cell_type": "code",
   "execution_count": 12,
   "metadata": {},
   "outputs": [
    {
     "name": "stdout",
     "output_type": "stream",
     "text": [
      "0.0\n"
     ]
    }
   ],
   "source": [
    "l = [1 , 2]\n",
    "kurtosis = third_moment(l, mean, std)\n",
    "print(kurtosis)\n",
    "\n",
    "assert kurtosis == 0"
   ]
  },
  {
   "cell_type": "markdown",
   "metadata": {},
   "source": [
    "### Sanity Check - compare with NUMPY"
   ]
  },
  {
   "cell_type": "code",
   "execution_count": 13,
   "metadata": {},
   "outputs": [
    {
     "name": "stdout",
     "output_type": "stream",
     "text": [
      "45.5\n",
      "44.01420225336363\n",
      "0.0\n",
      "-1.997420420713434\n"
     ]
    }
   ],
   "source": [
    "from scipy.stats import kurtosis, skew\n",
    "a = np.array([0,1,2,3,88,89,90,91])\n",
    "print(np.mean(a))\n",
    "print(np.std(a))\n",
    "print(skew(a))\n",
    "print(kurtosis(a))\n"
   ]
  },
  {
   "cell_type": "code",
   "execution_count": 28,
   "metadata": {},
   "outputs": [
    {
     "name": "stdout",
     "output_type": "stream",
     "text": [
      "45.5\n",
      "44.01420225336363\n",
      "0.0\n",
      "-1.9974204207134338\n"
     ]
    }
   ],
   "source": [
    "list1 = [0,1,2,3,88,89,90,91]\n",
    "my_mean = first_moment(list1)\n",
    "my_stdev = second_moment(list1, my_mean)\n",
    "my_skew = third_moment(list1, my_mean, my_stdev)\n",
    "my_kurtosis = fourth_moment(list1, my_mean, my_stdev)\n",
    "\n",
    "print(my_mean)\n",
    "print(my_stdev)\n",
    "print(my_skew)\n",
    "print(my_kurtosis)"
   ]
  },
  {
   "cell_type": "code",
   "execution_count": 23,
   "metadata": {},
   "outputs": [
    {
     "name": "stdout",
     "output_type": "stream",
     "text": [
      "1.1920929e-07\n",
      "2.220446049250313e-16\n"
     ]
    }
   ],
   "source": [
    "print(np.finfo(np.float32).eps)\n",
    "print(np.finfo(np.float).eps)"
   ]
  },
  {
   "cell_type": "code",
   "execution_count": 31,
   "metadata": {},
   "outputs": [],
   "source": [
    "from scipy.stats import kurtosis \n",
    "from scipy.stats import skew \n",
    "assert my_mean - np.mean(a) < np.finfo(np.float).eps\n",
    "assert my_stdev - np.std(a) < np.finfo(np.float).eps\n",
    "assert my_skew - skew(a) < np.finfo(np.float32).eps\n",
    "assert my_kurtosis - kurtosis(a) < np.finfo(np.float32).eps\n"
   ]
  },
  {
   "cell_type": "code",
   "execution_count": null,
   "metadata": {},
   "outputs": [],
   "source": []
  }
 ],
 "metadata": {
  "kernelspec": {
   "display_name": "Python 3",
   "language": "python",
   "name": "python3"
  },
  "language_info": {
   "codemirror_mode": {
    "name": "ipython",
    "version": 3
   },
   "file_extension": ".py",
   "mimetype": "text/x-python",
   "name": "python",
   "nbconvert_exporter": "python",
   "pygments_lexer": "ipython3",
   "version": "3.6.7"
  }
 },
 "nbformat": 4,
 "nbformat_minor": 2
}
