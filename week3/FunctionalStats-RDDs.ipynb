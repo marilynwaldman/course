{
 "cells": [
  {
   "cell_type": "code",
   "execution_count": 2,
   "metadata": {},
   "outputs": [],
   "source": [
    "import pyspark\n",
    "sc = pyspark.SparkContext('local[*]')"
   ]
  },
  {
   "cell_type": "code",
   "execution_count": 3,
   "metadata": {},
   "outputs": [],
   "source": [
    "import numpy as np\n",
    "from functools import reduce\n",
    "from scipy.stats import kurtosis, skew"
   ]
  },
  {
   "cell_type": "markdown",
   "metadata": {},
   "source": [
    "# Statistics with PySpark and RDDs"
   ]
  },
  {
   "cell_type": "markdown",
   "metadata": {},
   "source": [
    "In this exercise we will use functional programming with Python to compute from a list of  N integers:\n",
    "\n",
    "  1.  the mean\n",
    "   \n",
    "        $\\mu = \\frac{1}{N} \\sum_{i=1}^N x_i.$\n",
    "        \n",
    "        \n",
    "  \n",
    "  2.  the standard deviation\n",
    "  \n",
    "        $\\sigma = \\sqrt{\\frac{1}{N} \\sum_{i=1}^N (x_i - \\mu)^2}$\n",
    "        \n",
    "        \n",
    "        \n",
    "  3.  the skew \n",
    "   \n",
    "        $\\gamma_1 = \\frac{1}{N} \\sum_{i=1}^N \\left[\\frac{x_i - \\mu}{\\sigma}\\right]^3$\n",
    "        \n",
    "        \n",
    "        \n",
    "  4.  the kurtosis\n",
    "  \n",
    "         $g_2 = \\Big\\{   \\frac{1}{N} \\sum_{i=1}^N \\left[\\frac{x_i - \\mu}{\\sigma}\\right]^4  \\Big\\} - 3$\n",
    "         \n",
    "         \n",
    "  For each case above we will define a set of transformations followed by reduction to obtain the results\n",
    "  \n",
    "         \n",
    "         \n",
    "         "
   ]
  },
  {
   "cell_type": "code",
   "execution_count": 4,
   "metadata": {},
   "outputs": [],
   "source": [
    "def test_assert():\n",
    "    \"\"\"Test that assert is working.\n",
    "\n",
    "    Args:\n",
    "        None\n",
    "    Returns:\n",
    "        x with value 5\n",
    "    \"\"\"\n",
    "    x = 5\n",
    "    assert x == 5\n",
    "    return x\n",
    "    \n",
    "y = test_assert() \n",
    "assert y == 5"
   ]
  },
  {
   "cell_type": "markdown",
   "metadata": {},
   "source": [
    "# Convert a list into an RDD\n"
   ]
  },
  {
   "cell_type": "code",
   "execution_count": 6,
   "metadata": {},
   "outputs": [
    {
     "data": {
      "text/plain": [
       "[819, 401, 655, 397, 587]"
      ]
     },
     "execution_count": 6,
     "metadata": {},
     "output_type": "execute_result"
    }
   ],
   "source": [
    "rdd = sc.parallelize(range(1000))\n",
    "rdd.takeSample(False, 5)"
   ]
  },
  {
   "cell_type": "markdown",
   "metadata": {},
   "source": [
    "# First Moment"
   ]
  },
  {
   "cell_type": "markdown",
   "metadata": {},
   "source": [
    "### Define a function, first_moment_term, to  compute the MEAN\n",
    "\n",
    " $\\mu = \\frac{1}{N} \\sum_{i=1}^N x_i.$\n",
    " \n",
    " We will:\n",
    " \n",
    " 1.  Map each term of the list to the correct moment\n",
    " 2.  Sum the transformed elements over N\n",
    " "
   ]
  },
  {
   "cell_type": "markdown",
   "metadata": {},
   "source": [
    "####  Define the transformation for the first moment terms \n",
    "    hint - it is the identity "
   ]
  },
  {
   "cell_type": "code",
   "execution_count": 10,
   "metadata": {},
   "outputs": [],
   "source": [
    "def first_moment_term(x):\n",
    "    \"\"\"Define the first moment term\n",
    "\n",
    "    Args:\n",
    "        x - An element of a list - a term\n",
    "    Returns:\n",
    "        transformed term - an identity in this case, x\n",
    "    \"\"\"\n",
    "    \n",
    "    return x   \n",
    "    \n"
   ]
  },
  {
   "cell_type": "code",
   "execution_count": 11,
   "metadata": {},
   "outputs": [
    {
     "name": "stdout",
     "output_type": "stream",
     "text": [
      "1\n"
     ]
    }
   ],
   "source": [
    "x = 1\n",
    "\n",
    "new_term = first_moment_term(x)\n",
    "\n",
    "print(new_term)\n",
    "\n",
    "assert new_term == 1"
   ]
  },
  {
   "cell_type": "code",
   "execution_count": 14,
   "metadata": {},
   "outputs": [],
   "source": [
    "def my_mean(rdd):\n",
    "    \"\"\"Compute the mean\n",
    "\n",
    "    Args:\n",
    "        rdd - an rdd of  integers\n",
    "        \n",
    "    Returns:\n",
    "        the mean of the rdd\n",
    "    \"\"\"\n",
    "    \n",
    "\n",
    "    transformed_rdd = rdd.map(lambda x : first_moment_term(x))\n",
    "    mean = transformed_rdd.reduce(lambda x, y : x + y)/rdd.count()\n",
    "    \n",
    "    return mean \n",
    "    "
   ]
  },
  {
   "cell_type": "code",
   "execution_count": 15,
   "metadata": {},
   "outputs": [
    {
     "name": "stdout",
     "output_type": "stream",
     "text": [
      "499.5\n"
     ]
    }
   ],
   "source": [
    "rdd = sc.parallelize(range(1000))\n",
    "test_mean = my_mean(rdd)\n",
    "print(test_mean)\n",
    "a = np.array(range(1000))\n",
    "assert test_mean == np.mean(a)"
   ]
  },
  {
   "cell_type": "markdown",
   "metadata": {},
   "source": [
    "# Second Moment"
   ]
  },
  {
   "cell_type": "markdown",
   "metadata": {},
   "source": [
    "### Define a function, second_moment_term, to compute the standard deviation\n",
    "\n",
    "$\\sigma = \\sqrt{\\frac{1}{N} \\sum_{i=1}^N (x_i - \\mu)^2}$\n",
    " \n",
    " We will:\n",
    " \n",
    " 1.  Map each term of the list to the correct moment\n",
    " 2.  Sum the transformed elements over N\n",
    " \n",
    " \n"
   ]
  },
  {
   "cell_type": "markdown",
   "metadata": {},
   "source": [
    "####  Define the transformation for the first moment terms \n",
    "\n",
    "$(x_i - \\mu)^2$\n",
    "   "
   ]
  },
  {
   "cell_type": "code",
   "execution_count": 26,
   "metadata": {},
   "outputs": [],
   "source": [
    "def second_moment_term(x, mu):\n",
    "    \"\"\"Define the first moment term\n",
    "\n",
    "    Args:\n",
    "        x - An element of a list - a term\n",
    "        mu - the mean\n",
    "    Returns:\n",
    "        transformed term - an identity in this case, (x - mu)**2\n",
    "    \"\"\"\n",
    "    \n",
    "    return (x - mu) ** 2  \n",
    "  "
   ]
  },
  {
   "cell_type": "code",
   "execution_count": 27,
   "metadata": {},
   "outputs": [],
   "source": [
    "val = 5\n",
    "mu = 3\n",
    "term = second_moment_term(x, mu)\n",
    "assert term == 4\n"
   ]
  },
  {
   "cell_type": "markdown",
   "metadata": {},
   "source": [
    "### Transform and reduce to get the standard deviation\n",
    "\n",
    "\n",
    "   $\\sigma = \\sqrt{\\frac{1}{N} \\sum_{i=1}^N (x_i - \\mu)^2}$\n",
    "   \n",
    "    \n",
    "   N = len(list)\n",
    "   \n",
    "   $\\mu$ is the mean\n",
    "   \n",
    "   \n",
    "##### Note:  Use Numpy for the square root  - \n",
    "\n",
    "      np.sqrt(x)\n",
    " "
   ]
  },
  {
   "cell_type": "code",
   "execution_count": 30,
   "metadata": {},
   "outputs": [],
   "source": [
    "def my_stdev(rdd, mu):\n",
    "    \"\"\"Define a function to compute the standard devivation for an RDD\n",
    "\n",
    "    Args:\n",
    "        rdd - a list of integers\n",
    "        mu - the mean of the rdd\n",
    "        \n",
    "    Returns:\n",
    "        the standard deviation of the list\n",
    "    \"\"\"\n",
    "    \n",
    "    \n",
    "    transformed_rdd = rdd.map(lambda x : second_moment_term(x, mu))\n",
    "    transformed_rdd.collect()\n",
    "    \n",
    "    variance = transformed_rdd.reduce(lambda x, y : x + y)/rdd.count()\n",
    "    \n",
    "    return np.sqrt(variance)\n",
    "    "
   ]
  },
  {
   "cell_type": "code",
   "execution_count": 32,
   "metadata": {},
   "outputs": [
    {
     "name": "stdout",
     "output_type": "stream",
     "text": [
      "499.5\n",
      "288.6749902572095\n",
      "288.6749902572095\n"
     ]
    }
   ],
   "source": [
    "rdd = sc.parallelize(range(1000))\n",
    "test_mean = my_mean(rdd)\n",
    "print(test_mean)\n",
    "test_stdev = my_stdev(rdd, test_mean)\n",
    "print(test_stdev)\n",
    "a = np.array(range(1000))\n",
    "assert test_mean == np.mean(a)\n",
    "assert test_stdev == np.std(a)\n",
    "print(np.std(a))"
   ]
  },
  {
   "cell_type": "markdown",
   "metadata": {},
   "source": [
    "# Third Moment\n",
    "\n"
   ]
  },
  {
   "cell_type": "markdown",
   "metadata": {},
   "source": [
    "## Define a function, third_moment_term, to compute the Skew\n",
    "\n",
    "$\\gamma_1 = \\frac{1}{N} \\sum_{i=1}^N \\left[\\frac{x_i - \\mu}{\\sigma}\\right]^3$\n",
    "\n",
    "We will:\n",
    "\n",
    "Map each term of the list to the correct moment\n",
    "Sum the transformed elements over N\n"
   ]
  },
  {
   "cell_type": "code",
   "execution_count": 33,
   "metadata": {},
   "outputs": [],
   "source": [
    "def third_moment_term(x, mu, sigma):\n",
    "    \"\"\"Define the third moment term\n",
    "\n",
    "    Args:\n",
    "        x - An element of a list - a term\n",
    "        mu - the mean\n",
    "        sigma - the standard deviation\n",
    "    Returns:\n",
    "        transformed term - an identity in this case, ((x - mu)/sigma)**3\n",
    "    \"\"\"\n",
    "    \n",
    "    return ((x - mu)/sigma) ** 3  \n",
    "  "
   ]
  },
  {
   "cell_type": "code",
   "execution_count": 34,
   "metadata": {},
   "outputs": [],
   "source": [
    "x = 5\n",
    "mu = 3\n",
    "sigma = 1\n",
    "y = third_moment_term(x, mu, sigma)\n",
    "assert y == 8"
   ]
  },
  {
   "cell_type": "markdown",
   "metadata": {},
   "source": [
    "### Transform and reduce to obtain the skew\n",
    "\n",
    "\n",
    "   $\\gamma_1 = \\frac{1}{N} \\sum_{i=1}^N \\left[\\frac{x_i - \\mu}{\\sigma}\\right]^3$\n",
    "   \n",
    "    \n",
    "   N = len(list)\n",
    "   \n",
    "   $\\mu$ is the mean\n",
    "   \n",
    "   \n",
    "   $\\sigma$ is the standard deviation\n",
    "   \n",
    "   \n",
    "\n",
    " "
   ]
  },
  {
   "cell_type": "code",
   "execution_count": 48,
   "metadata": {},
   "outputs": [],
   "source": [
    "def my_skew(rdd, mu, sigma):\n",
    "    \"\"\"Compute the third moment, the skew\n",
    "\n",
    "    Args:\n",
    "        rdd - an rdd of integers\n",
    "        mu - the mean of the rdd\n",
    "        sigma - the standard deviation\n",
    "        \n",
    "    Returns:\n",
    "        the skew of the list\n",
    "    \"\"\"\n",
    "    \n",
    "    transformed_rdd = rdd.map(lambda x : third_moment_term(x, mu, sigma))\n",
    "    skew = transformed_rdd.reduce(lambda x, y : x + y)/rdd.count()\n",
    "    \n",
    "    return skew\n",
    "    "
   ]
  },
  {
   "cell_type": "code",
   "execution_count": 42,
   "metadata": {},
   "outputs": [
    {
     "name": "stdout",
     "output_type": "stream",
     "text": [
      "499.5\n",
      "288.6749902572095\n",
      "1.1368683772161603e-16\n",
      "0.0\n"
     ]
    }
   ],
   "source": [
    "rdd = sc.parallelize(range(1000))\n",
    "test_mean = my_mean(rdd)\n",
    "print(test_mean)\n",
    "test_stdev = my_stdev(rdd, test_mean)\n",
    "print(test_stdev)\n",
    "test_skew = my_skew(rdd, test_mean, test_stdev)\n",
    "print(test_skew)\n",
    "print(skew(a))\n",
    "a = np.array(range(1000))\n",
    "assert test_mean == np.mean(a)\n",
    "assert test_stdev == np.std(a)\n",
    "assert test_skew - skew(a) < np.finfo(np.float).eps"
   ]
  },
  {
   "cell_type": "markdown",
   "metadata": {},
   "source": [
    "# Fourth Moment"
   ]
  },
  {
   "cell_type": "markdown",
   "metadata": {},
   "source": [
    "## Define a function, fourth_moment_term, to compute the kurtosis\n",
    "\n",
    "$g_2 = \\Big\\{   \\frac{1}{N} \\sum_{i=1}^N \\left[\\frac{x_i - \\mu}{\\sigma}\\right]^4  \\Big\\} - 3$\n",
    "\n",
    "We will:\n",
    "\n",
    "Map each term of the list to the correct moment\n",
    "Sum the transformed elements over N"
   ]
  },
  {
   "cell_type": "code",
   "execution_count": 44,
   "metadata": {},
   "outputs": [],
   "source": [
    "def fourth_moment_term(x, mu, sigma):\n",
    "    \"\"\"Define the fourth moment term\n",
    "\n",
    "    Args:\n",
    "        x - An element of a list - a term\n",
    "        mu - the mean\n",
    "        sigma - the standard deviation\n",
    "    Returns:\n",
    "        transformed term - an identity in this case, ((x - mu)/sigma)**4\n",
    "    \"\"\"\n",
    "    \n",
    "    return ((x - mu)/sigma) ** 4  \n",
    "  "
   ]
  },
  {
   "cell_type": "code",
   "execution_count": 45,
   "metadata": {},
   "outputs": [],
   "source": [
    "x = 5\n",
    "mu = 3\n",
    "sigma = 1\n",
    "y = fourth_moment_term(x, mu, sigma)\n",
    "assert y == 16"
   ]
  },
  {
   "cell_type": "markdown",
   "metadata": {},
   "source": [
    " ### Transform and reduce to obtain the kurtosis\n",
    "\n",
    "   $g_2 = \\Big\\{   \\frac{1}{N} \\sum_{i=1}^N \\left[\\frac{x_i - \\mu}{\\sigma}\\right]^4  \\Big\\} - 3$\n",
    "\n",
    "    \n",
    "   N = len(list)\n",
    "   \n",
    "   $\\mu$ is the mean\n",
    "   \n",
    "   \n",
    "   $\\sigma$ is the standard deviation\n",
    "   "
   ]
  },
  {
   "cell_type": "code",
   "execution_count": 46,
   "metadata": {},
   "outputs": [],
   "source": [
    "def my_kurtosis(rdd, mu, sigma):\n",
    "    \"\"\"Define the fourth moment, the kurtosis\n",
    "\n",
    "    Args:\n",
    "        rdd - an rdd of integers\n",
    "        mu - the mean of the list\n",
    "        sigma - the standard deviation\n",
    "        \n",
    "    Returns:\n",
    "        the skew of the list\n",
    "    \"\"\"\n",
    "    \n",
    "    \n",
    "    transformed_rdd = rdd.map(lambda x : fourth_moment_term(x, mu, sigma))\n",
    "    kurtosis = transformed_rdd.reduce(lambda x, y : x + y)/rdd.count()\n",
    "    \n",
    "    return kurtosis - 3\n",
    "    "
   ]
  },
  {
   "cell_type": "code",
   "execution_count": 47,
   "metadata": {},
   "outputs": [
    {
     "name": "stdout",
     "output_type": "stream",
     "text": [
      "499.5\n",
      "288.6749902572095\n",
      "1.1368683772161603e-16\n",
      "-1.2000024000024\n"
     ]
    }
   ],
   "source": [
    "rdd  = sc.parallelize(range(1000))\n",
    "test_mean = my_mean(rdd)\n",
    "print(test_mean)\n",
    "test_stdev = my_stdev(rdd, test_mean)\n",
    "print(test_stdev)\n",
    "test_skew = my_skew(rdd, test_mean, test_stdev)\n",
    "print(test_skew)\n",
    "test_kurtosis = my_kurtosis(rdd, test_mean, test_stdev)\n",
    "print(test_kurtosis)\n",
    "a = np.array(range(1000))\n",
    "assert test_mean == np.mean(a)\n",
    "assert test_stdev == np.std(a)\n",
    "assert test_skew  - skew(a) <  np.finfo(np.float32).eps\n",
    "assert test_kurtosis - kurtosis(a) < np.finfo(np.float32).eps\n",
    "#assert test_kurtosis == kurtosis(a)\n"
   ]
  }
 ],
 "metadata": {
  "kernelspec": {
   "display_name": "Python 3",
   "language": "python",
   "name": "python3"
  },
  "language_info": {
   "codemirror_mode": {
    "name": "ipython",
    "version": 3
   },
   "file_extension": ".py",
   "mimetype": "text/x-python",
   "name": "python",
   "nbconvert_exporter": "python",
   "pygments_lexer": "ipython3",
   "version": "3.6.7"
  }
 },
 "nbformat": 4,
 "nbformat_minor": 2
}
