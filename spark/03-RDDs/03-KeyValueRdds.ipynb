{
 "cells": [
  {
   "cell_type": "code",
   "execution_count": 1,
   "metadata": {},
   "outputs": [
    {
     "data": {
      "text/plain": [
       "[979, 417, 49, 888, 320]"
      ]
     },
     "execution_count": 1,
     "metadata": {},
     "output_type": "execute_result"
    }
   ],
   "source": [
    "import pyspark\n",
    "sc = pyspark.SparkContext('local[*]')\n",
    "\n",
    "# do something to prove it worksC\n",
    "rdd = sc.parallelize(range(1000))\n",
    "rdd.takeSample(False, 5)"
   ]
  },
  {
   "cell_type": "code",
   "execution_count": 2,
   "metadata": {},
   "outputs": [],
   "source": [
    "words = [\"one\", \"two\", \"two\", \"three\", \"three\", \"three\"]"
   ]
  },
  {
   "cell_type": "code",
   "execution_count": 4,
   "metadata": {},
   "outputs": [
    {
     "name": "stdout",
     "output_type": "stream",
     "text": [
      "[('one', 1), ('two', 1), ('two', 1), ('three', 1), ('three', 1), ('three', 1)]\n"
     ]
    }
   ],
   "source": [
    "wordPairsRDD = sc.parallelize(words).map(lambda word : (word, 1))\n",
    "print(wordPairsRDD.collect())"
   ]
  },
  {
   "cell_type": "code",
   "execution_count": 5,
   "metadata": {},
   "outputs": [
    {
     "name": "stdout",
     "output_type": "stream",
     "text": [
      "['one', 'two', 'two', 'three', 'three', 'three']\n"
     ]
    }
   ],
   "source": [
    "print(wordPairsRDD.keys().collect())"
   ]
  },
  {
   "cell_type": "code",
   "execution_count": 6,
   "metadata": {},
   "outputs": [
    {
     "name": "stdout",
     "output_type": "stream",
     "text": [
      "[1, 1, 1, 1, 1, 1]\n"
     ]
    }
   ],
   "source": [
    "print(wordPairsRDD.values().collect())"
   ]
  },
  {
   "cell_type": "code",
   "execution_count": 7,
   "metadata": {},
   "outputs": [
    {
     "name": "stdout",
     "output_type": "stream",
     "text": [
      "<class 'pyspark.rdd.PipelinedRDD'>\n",
      "[('two', <pyspark.resultiterable.ResultIterable object at 0x7fc5cf2c63c8>), ('three', <pyspark.resultiterable.ResultIterable object at 0x7fc5cf2c6400>), ('one', <pyspark.resultiterable.ResultIterable object at 0x7fc5cf2c6438>)]\n"
     ]
    }
   ],
   "source": [
    "wordCountsWithGroup = wordPairsRDD.groupByKey()\n",
    "print (type(wordCountsWithGroup))\n",
    "print(wordCountsWithGroup.collect())\n",
    "\n"
   ]
  },
  {
   "cell_type": "code",
   "execution_count": 60,
   "metadata": {},
   "outputs": [
    {
     "name": "stdout",
     "output_type": "stream",
     "text": [
      "[('two', [1, 1]), ('three', [1, 1, 1]), ('one', [1])]\n"
     ]
    }
   ],
   "source": [
    "wordCountsWithGroup = wordPairsRDD.groupByKey()    \\\n",
    "                                  .mapValues(list)\n",
    "print(wordCountsWithGroup.collect())\n",
    "                     \n",
    "                "
   ]
  },
  {
   "cell_type": "code",
   "execution_count": 61,
   "metadata": {},
   "outputs": [
    {
     "name": "stdout",
     "output_type": "stream",
     "text": [
      "[('two', 2), ('three', 3), ('one', 1)]\n"
     ]
    }
   ],
   "source": [
    "x = wordPairsRDD.groupByKey().mapValues(sum)\n",
    "print(x.collect())"
   ]
  },
  {
   "cell_type": "code",
   "execution_count": 11,
   "metadata": {},
   "outputs": [
    {
     "name": "stdout",
     "output_type": "stream",
     "text": [
      "<class 'pyspark.rdd.PipelinedRDD'>\n"
     ]
    }
   ],
   "source": [
    "wordCountsWithReduce = wordPairsRDD.reduceByKey(lambda x, y : x + y)\n",
    "print(type(wordCountsWithReduce))\n"
   ]
  },
  {
   "cell_type": "code",
   "execution_count": 62,
   "metadata": {},
   "outputs": [
    {
     "name": "stdout",
     "output_type": "stream",
     "text": [
      "[('two', 2), ('three', 3), ('one', 1)]\n"
     ]
    }
   ],
   "source": [
    "wordCountsWithReduce = wordPairsRDD.reduceByKey(lambda x, y : x + y)\n",
    "print(wordCountsWithReduce.collect())\n"
   ]
  },
  {
   "cell_type": "code",
   "execution_count": null,
   "metadata": {},
   "outputs": [],
   "source": []
  }
 ],
 "metadata": {
  "kernelspec": {
   "display_name": "Python 3",
   "language": "python",
   "name": "python3"
  },
  "language_info": {
   "codemirror_mode": {
    "name": "ipython",
    "version": 3
   },
   "file_extension": ".py",
   "mimetype": "text/x-python",
   "name": "python",
   "nbconvert_exporter": "python",
   "pygments_lexer": "ipython3",
   "version": "3.6.7"
  }
 },
 "nbformat": 4,
 "nbformat_minor": 2
}
