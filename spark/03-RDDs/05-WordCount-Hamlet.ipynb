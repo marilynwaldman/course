{
 "cells": [
  {
   "cell_type": "markdown",
   "metadata": {},
   "source": [
    "# Word Count"
   ]
  },
  {
   "cell_type": "markdown",
   "metadata": {},
   "source": [
    "## Spark"
   ]
  },
  {
   "cell_type": "code",
   "execution_count": 1,
   "metadata": {},
   "outputs": [
    {
     "data": {
      "text/plain": [
       "[186, 594, 319, 76, 551]"
      ]
     },
     "execution_count": 1,
     "metadata": {},
     "output_type": "execute_result"
    }
   ],
   "source": [
    "import pyspark\n",
    "sc = pyspark.SparkContext('local[*]')\n",
    "\n",
    "# do something to prove it worksC\n",
    "rdd = sc.parallelize(range(1000))\n",
    "rdd.takeSample(False, 5)\n",
    "\n"
   ]
  },
  {
   "cell_type": "code",
   "execution_count": 3,
   "metadata": {},
   "outputs": [
    {
     "data": {
      "text/plain": [
       "['\\tHAMLET', '', '', '\\tDRAMATIS PERSONAE', '']"
      ]
     },
     "execution_count": 3,
     "metadata": {},
     "output_type": "execute_result"
    }
   ],
   "source": [
    "#Create an rdd by reading a file\n",
    "lines = sc.textFile('data/hamlet.txt')\n",
    "lines.take(5)"
   ]
  },
  {
   "cell_type": "markdown",
   "metadata": {},
   "source": [
    "## Using Regular Expression and Split\n",
    "\n",
    "    - re.split('\\W+', 'Dogs, cats, birds.') - split line into words\n",
    "    \n",
    "    ['Dogs', 'cats', 'birds', '\n",
    "\n",
    "    - strip out unwanted characters\n"
   ]
  },
  {
   "cell_type": "code",
   "execution_count": 6,
   "metadata": {},
   "outputs": [
    {
     "data": {
      "text/plain": [
       "['hamlet', '', '', 'dramatis', 'personae']"
      ]
     },
     "execution_count": 6,
     "metadata": {},
     "output_type": "execute_result"
    }
   ],
   "source": [
    "#import the regular expression library\n",
    "import re\n",
    "hamlet = lines.flatMap(lambda line: re.split('\\W+', line.lower().strip()))\n",
    "hamlet.take(5)"
   ]
  },
  {
   "cell_type": "code",
   "execution_count": 9,
   "metadata": {},
   "outputs": [
    {
     "name": "stdout",
     "output_type": "stream",
     "text": [
      "['hamlet', 'dramatis', 'personae', 'claudius', 'king']\n"
     ]
    }
   ],
   "source": [
    "# Drop words of length <= 2\n",
    "\n",
    "hamlet = hamlet.filter(lambda x: len(x) > 2 )\n",
    "print(hamlet.take(5))"
   ]
  },
  {
   "cell_type": "code",
   "execution_count": 12,
   "metadata": {},
   "outputs": [
    {
     "data": {
      "text/plain": [
       "[('hamlet', 1), ('dramatis', 1), ('personae', 1), ('claudius', 1), ('king', 1)]"
      ]
     },
     "execution_count": 12,
     "metadata": {},
     "output_type": "execute_result"
    }
   ],
   "source": [
    "hamletTuple = hamlet.map(lambda word: (word, 1))\n",
    "hamletTuple.take(5)"
   ]
  },
  {
   "cell_type": "code",
   "execution_count": 13,
   "metadata": {},
   "outputs": [
    {
     "data": {
      "text/plain": [
       "[('dramatis', 1), ('king', 171), ('denmark', 22), ('son', 20), ('late', 9)]"
      ]
     },
     "execution_count": 13,
     "metadata": {},
     "output_type": "execute_result"
    }
   ],
   "source": [
    "hamletWordCount = hamletTuple.reduceByKey(lambda a, b: a + b)\n",
    "hamletWordCount.take(5)"
   ]
  },
  {
   "cell_type": "markdown",
   "metadata": {},
   "source": [
    "### SortByKey\n",
    "\n",
    "sortByKey([ascending], [numTasks])\n",
    "\n",
    "When called on a dataset of (Key, Value pairs where K implements Ordered, returns a dataset of (Key, Value) pairs sorted by keys in ascending or descending order, as specified in the boolean ascending argument.\n"
   ]
  },
  {
   "cell_type": "code",
   "execution_count": 14,
   "metadata": {},
   "outputs": [
    {
     "data": {
      "text/plain": [
       "[(930, 'the'),\n",
       " (843, 'and'),\n",
       " (496, 'you'),\n",
       " (368, 'hamlet'),\n",
       " (346, 'that'),\n",
       " (278, 'lord'),\n",
       " (262, 'not'),\n",
       " (238, 'his'),\n",
       " (238, 'this'),\n",
       " (232, 'but'),\n",
       " (232, 'with'),\n",
       " (215, 'for'),\n",
       " (211, 'your'),\n",
       " (186, 'what'),\n",
       " (171, 'king'),\n",
       " (160, 'him'),\n",
       " (149, 'have'),\n",
       " (134, 'will'),\n",
       " (124, 'polonius'),\n",
       " (112, 'horatio')]"
      ]
     },
     "execution_count": 14,
     "metadata": {},
     "output_type": "execute_result"
    }
   ],
   "source": [
    "decending = hamletWordCount.map(lambda x: (x[1], x[0])).sortByKey(False)\n",
    "decending.take(20)"
   ]
  },
  {
   "cell_type": "markdown",
   "metadata": {},
   "source": [
    "### Swap the components of the tuple for sorting\n"
   ]
  },
  {
   "cell_type": "code",
   "execution_count": 18,
   "metadata": {},
   "outputs": [
    {
     "data": {
      "text/plain": [
       "[('the', 930),\n",
       " ('and', 843),\n",
       " ('you', 496),\n",
       " ('hamlet', 368),\n",
       " ('that', 346),\n",
       " ('lord', 278),\n",
       " ('not', 262),\n",
       " ('his', 238),\n",
       " ('this', 238),\n",
       " ('but', 232),\n",
       " ('with', 232),\n",
       " ('for', 215),\n",
       " ('your', 211),\n",
       " ('what', 186),\n",
       " ('king', 171),\n",
       " ('him', 160),\n",
       " ('have', 149),\n",
       " ('will', 134),\n",
       " ('polonius', 124),\n",
       " ('horatio', 112)]"
      ]
     },
     "execution_count": 18,
     "metadata": {},
     "output_type": "execute_result"
    }
   ],
   "source": [
    "tmp = decending.map(lambda x: (x[1], x[0]))\n",
    "tmp.take(20)"
   ]
  },
  {
   "cell_type": "code",
   "execution_count": 19,
   "metadata": {},
   "outputs": [],
   "source": [
    "%matplotlib inline\n",
    "import matplotlib.pyplot as plt\n",
    "\n",
    "def plot(words):\n",
    "    values = list(map(lambda x: x[1], words))\n",
    "    labels = list(map(lambda x: x[0], words))\n",
    "    plt.barh(range(len(values)), values, color='grey')\n",
    "    plt.yticks(range(len(values)), labels)\n",
    "    plt.show()"
   ]
  },
  {
   "cell_type": "code",
   "execution_count": 20,
   "metadata": {},
   "outputs": [
    {
     "data": {
      "image/png": "[encoded data removed]",
      "text/plain": [
       "<Figure size 432x288 with 1 Axes>"
      ]
     },
     "metadata": {
      "needs_background": "light"
     },
     "output_type": "display_data"
    }
   ],
   "source": [
    "plot(tmp.take(15))"
   ]
  },
  {
   "cell_type": "markdown",
   "metadata": {},
   "source": [
    "## Summary code"
   ]
  },
  {
   "cell_type": "code",
   "execution_count": 22,
   "metadata": {},
   "outputs": [
    {
     "data": {
      "text/plain": [
       "[(930, 'the'),\n",
       " (843, 'and'),\n",
       " (496, 'you'),\n",
       " (368, 'hamlet'),\n",
       " (346, 'that'),\n",
       " (278, 'lord'),\n",
       " (262, 'not'),\n",
       " (238, 'his'),\n",
       " (238, 'this'),\n",
       " (232, 'but'),\n",
       " (232, 'with'),\n",
       " (215, 'for'),\n",
       " (211, 'your'),\n",
       " (186, 'what'),\n",
       " (171, 'king')]"
      ]
     },
     "execution_count": 22,
     "metadata": {},
     "output_type": "execute_result"
    }
   ],
   "source": [
    "words = sc.textFile('data/hamlet.txt')\\\n",
    "        .flatMap(lambda line: re.split('\\W+', line.lower().strip()))\\\n",
    "        .filter(lambda x: len(x) > 2 )\\\n",
    "        .map(lambda word: (word, 1))\\\n",
    "        .reduceByKey(lambda a, b: a + b)\\\n",
    "        .map(lambda x: (x[1], x[0])).sortByKey(False)   \n",
    "\n",
    "words.take(15)"
   ]
  },
  {
   "cell_type": "markdown",
   "metadata": {},
   "source": [
    "## Text filtering"
   ]
  },
  {
   "cell_type": "code",
   "execution_count": 23,
   "metadata": {},
   "outputs": [],
   "source": [
    "words = sc.textFile('data/hamlet.txt')"
   ]
  },
  {
   "cell_type": "markdown",
   "metadata": {},
   "source": [
    "How many lines contain the word <em>hamlet</em>?"
   ]
  },
  {
   "cell_type": "code",
   "execution_count": 24,
   "metadata": {},
   "outputs": [
    {
     "data": {
      "text/plain": [
       "367"
      ]
     },
     "execution_count": 24,
     "metadata": {},
     "output_type": "execute_result"
    }
   ],
   "source": [
    "tmp = words.filter(lambda x: \"hamlet\" in x.lower())\n",
    "tmp.count()"
   ]
  },
  {
   "cell_type": "markdown",
   "metadata": {},
   "source": [
    "What percent of lines contain \"hamlet\"?"
   ]
  },
  {
   "cell_type": "code",
   "execution_count": 27,
   "metadata": {},
   "outputs": [
    {
     "data": {
      "text/plain": [
       "'7.26%'"
      ]
     },
     "execution_count": 27,
     "metadata": {},
     "output_type": "execute_result"
    }
   ],
   "source": [
    "'{0:0.2f}%'.format(100*tmp.count()/float(words.count()))"
   ]
  },
  {
   "cell_type": "markdown",
   "metadata": {},
   "source": [
    "How about <em>claudius</em> and <em>hamlet</em>?"
   ]
  },
  {
   "cell_type": "code",
   "execution_count": 28,
   "metadata": {},
   "outputs": [
    {
     "data": {
      "text/plain": [
       "12"
      ]
     },
     "execution_count": 28,
     "metadata": {},
     "output_type": "execute_result"
    }
   ],
   "source": [
    "tmp.filter( lambda x: 'claudius' in x.lower()).count()"
   ]
  },
  {
   "cell_type": "code",
   "execution_count": 29,
   "metadata": {},
   "outputs": [
    {
     "data": {
      "text/plain": [
       "['\\t[Enter KING CLAUDIUS, QUEEN GERTRUDE, HAMLET,',\n",
       " \"KING CLAUDIUS\\tThough yet of Hamlet our dear brother's death\",\n",
       " \"KING CLAUDIUS\\t'Tis sweet and commendable in your nature, Hamlet,\",\n",
       " 'KING CLAUDIUS\\tHow fares our cousin Hamlet?',\n",
       " 'KING CLAUDIUS\\tI have nothing with this answer, Hamlet; these words',\n",
       " 'KING CLAUDIUS\\tWhat, Gertrude? How does Hamlet?',\n",
       " \"KING CLAUDIUS\\tNow, Hamlet, where's Polonius?\",\n",
       " 'KING CLAUDIUS\\tHamlet, this deed, for thine especial safety,--',\n",
       " 'KING CLAUDIUS\\tAy, Hamlet.',\n",
       " 'KING CLAUDIUS\\tThy loving father, Hamlet.',\n",
       " 'KING CLAUDIUS\\tFrom Hamlet! who brought them?',\n",
       " \"KING CLAUDIUS\\t'Tis Hamlets character. 'Naked!\"]"
      ]
     },
     "execution_count": 29,
     "metadata": {},
     "output_type": "execute_result"
    }
   ],
   "source": [
    "tmp.filter( lambda x: 'claudius' in x.lower()).collect()"
   ]
  },
  {
   "cell_type": "markdown",
   "metadata": {},
   "source": [
    "## Run word count for Beowulf filtering out words whose length is less than 5"
   ]
  },
  {
   "cell_type": "code",
   "execution_count": 30,
   "metadata": {},
   "outputs": [
    {
     "ename": "SyntaxError",
     "evalue": "invalid syntax (<ipython-input-30-ae7383aa7e28>, line 3)",
     "output_type": "error",
     "traceback": [
      "\u001b[0;36m  File \u001b[0;32m\"<ipython-input-30-ae7383aa7e28>\"\u001b[0;36m, line \u001b[0;32m3\u001b[0m\n\u001b[0;31m    .filter(lambda x: <fill in> )\\\u001b[0m\n\u001b[0m                      ^\u001b[0m\n\u001b[0;31mSyntaxError\u001b[0m\u001b[0;31m:\u001b[0m invalid syntax\n"
     ]
    }
   ],
   "source": [
    "words = sc.textFile('data/beowulf.txt')\\\n",
    "        .flatMap(lambda line: re.split('\\W+', line.lower().strip()))\\\n",
    "        .filter(lambda x: <fill in> )\\\n",
    "        .map(lambda word: <fill in>)\\\n",
    "        .reduceByKey(lambda a, b: <fill in>)\\\n",
    "        .map(lambda x: <fill in>).sortByKey(False)   \n",
    "\n",
    "words.take(15)\n",
    "\n"
   ]
  },
  {
   "cell_type": "code",
   "execution_count": null,
   "metadata": {},
   "outputs": [],
   "source": [
    "tmp = words.map(lambda x: (x[1], x[0]))\n",
    "tmp.take(20)\n",
    "plot(tmp.take(15))"
   ]
  },
  {
   "cell_type": "code",
   "execution_count": null,
   "metadata": {
    "collapsed": true
   },
   "outputs": [],
   "source": []
  }
 ],
 "metadata": {
  "kernelspec": {
   "display_name": "Python 3",
   "language": "python",
   "name": "python3"
  },
  "language_info": {
   "codemirror_mode": {
    "name": "ipython",
    "version": 3
   },
   "file_extension": ".py",
   "mimetype": "text/x-python",
   "name": "python",
   "nbconvert_exporter": "python",
   "pygments_lexer": "ipython3",
   "version": "3.6.7"
  }
 },
 "nbformat": 4,
 "nbformat_minor": 1
}
