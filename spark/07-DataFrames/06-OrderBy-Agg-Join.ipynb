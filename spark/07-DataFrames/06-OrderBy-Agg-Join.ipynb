{
 "cells": [
  {
   "cell_type": "code",
   "execution_count": 5,
   "metadata": {},
   "outputs": [],
   "source": [
    "import pyspark\n",
    "sc = pyspark.SparkContext('local[*]')"
   ]
  },
  {
   "cell_type": "code",
   "execution_count": 6,
   "metadata": {},
   "outputs": [],
   "source": [
    "from pyspark.sql import SparkSession\n",
    "\n",
    "spark = SparkSession \\\n",
    "    .builder \\\n",
    "    .appName(\"Python Spark SQL basic example\") \\\n",
    "    .config(\"spark.some.config.option\", \"some-value\") \\\n",
    "    .getOrCreate()"
   ]
  },
  {
   "cell_type": "code",
   "execution_count": 7,
   "metadata": {},
   "outputs": [],
   "source": [
    "from pyspark.sql.types import *\n",
    "\n",
    "schema = StructType(\n",
    "  [StructField('studentId', IntegerType()),\n",
    "   StructField('fname', StringType()),\n",
    "   StructField('lname', StringType()),\n",
    "   StructField('dept', StringType()),\n",
    "   StructField('age', IntegerType()),\n",
    "   StructField('year', StringType()),\n",
    "   StructField('hours', IntegerType())] \n",
    ")\n"
   ]
  },
  {
   "cell_type": "code",
   "execution_count": 13,
   "metadata": {},
   "outputs": [
    {
     "name": "stdout",
     "output_type": "stream",
     "text": [
      "root\n",
      " |-- studentId: integer (nullable = true)\n",
      " |-- fname: string (nullable = true)\n",
      " |-- lname: string (nullable = true)\n",
      " |-- dept: string (nullable = true)\n",
      " |-- age: integer (nullable = true)\n",
      " |-- year: string (nullable = true)\n",
      " |-- hours: integer (nullable = true)\n",
      "\n",
      "+---------+-------+-------+--------+---+--------+-----+\n",
      "|studentId|  fname|  lname|    dept|age|    year|hours|\n",
      "+---------+-------+-------+--------+---+--------+-----+\n",
      "|        1|   John|  Smith| Biology| 20|  junior|   12|\n",
      "|        2|   Mary|  Jones|Business| 19|freshman|   16|\n",
      "|        3|   Greg|   Phil| Biology| 23|  senior|    8|\n",
      "|        4|    Sue|Hillman|Business| 18|freshman|   10|\n",
      "|        5|    Joe| Garcia|    Math| 19|sophmore|   16|\n",
      "|        6|   Mike|  Kline|    Math| 18|freshman|   12|\n",
      "|        7|Charles|Mueller|Business| 21|  senior|   16|\n",
      "|        8|   Jean|  McCay| Biology| 18|freshman|   16|\n",
      "|        9|    Kay| Givens|Business| 20|sophmore|   12|\n",
      "+---------+-------+-------+--------+---+--------+-----+\n",
      "\n"
     ]
    }
   ],
   "source": [
    "from pyspark.sql.types import *\n",
    "\n",
    "\n",
    "df = spark.read.csv(\"data/student.csv\", schema)\n",
    "df.printSchema()\n",
    "df.show()"
   ]
  },
  {
   "cell_type": "code",
   "execution_count": 10,
   "metadata": {},
   "outputs": [
    {
     "name": "stdout",
     "output_type": "stream",
     "text": [
      "+---------+-------+-------+--------+---+--------+-----+\n",
      "|studentId|  fname|  lname|    dept|age|    year|hours|\n",
      "+---------+-------+-------+--------+---+--------+-----+\n",
      "|        1|   John|  Smith| Biology| 20|  junior|   12|\n",
      "|        8|   Jean|  McCay| Biology| 18|freshman|   16|\n",
      "|        3|   Greg|   Phil| Biology| 23|  senior|    8|\n",
      "|        7|Charles|Mueller|Business| 21|  senior|   16|\n",
      "|        2|   Mary|  Jones|Business| 19|freshman|   16|\n",
      "|        9|    Kay| Givens|Business| 20|sophmore|   12|\n",
      "|        4|    Sue|Hillman|Business| 18|freshman|   10|\n",
      "|        5|    Joe| Garcia|    Math| 19|sophmore|   16|\n",
      "|        6|   Mike|  Kline|    Math| 18|freshman|   12|\n",
      "+---------+-------+-------+--------+---+--------+-----+\n",
      "\n"
     ]
    }
   ],
   "source": [
    "df.orderBy(\"dept\").show()"
   ]
  },
  {
   "cell_type": "code",
   "execution_count": 11,
   "metadata": {},
   "outputs": [
    {
     "name": "stdout",
     "output_type": "stream",
     "text": [
      "+---------+-------+-------+--------+---+--------+-----+\n",
      "|studentId|  fname|  lname|    dept|age|    year|hours|\n",
      "+---------+-------+-------+--------+---+--------+-----+\n",
      "|        5|    Joe| Garcia|    Math| 19|sophmore|   16|\n",
      "|        7|Charles|Mueller|Business| 21|  senior|   16|\n",
      "|        8|   Jean|  McCay| Biology| 18|freshman|   16|\n",
      "|        2|   Mary|  Jones|Business| 19|freshman|   16|\n",
      "|        6|   Mike|  Kline|    Math| 18|freshman|   12|\n",
      "|        1|   John|  Smith| Biology| 20|  junior|   12|\n",
      "|        9|    Kay| Givens|Business| 20|sophmore|   12|\n",
      "|        4|    Sue|Hillman|Business| 18|freshman|   10|\n",
      "|        3|   Greg|   Phil| Biology| 23|  senior|    8|\n",
      "+---------+-------+-------+--------+---+--------+-----+\n",
      "\n"
     ]
    }
   ],
   "source": [
    "from pyspark.sql.functions import *\n",
    "\n",
    "df.orderBy(desc(\"hours\")).show()"
   ]
  },
  {
   "cell_type": "code",
   "execution_count": 9,
   "metadata": {},
   "outputs": [
    {
     "name": "stdout",
     "output_type": "stream",
     "text": [
      "+----------------+----------+------------------+\n",
      "|count(studentId)|sum(hours)|          avg(age)|\n",
      "+----------------+----------+------------------+\n",
      "|               9|       118|19.555555555555557|\n",
      "+----------------+----------+------------------+\n",
      "\n"
     ]
    }
   ],
   "source": [
    "\n",
    "df.agg({'age':'avg', 'hours':'sum', 'studentId': 'count' }).show()"
   ]
  },
  {
   "cell_type": "code",
   "execution_count": 14,
   "metadata": {},
   "outputs": [
    {
     "name": "stdout",
     "output_type": "stream",
     "text": [
      "root\n",
      " |-- studentId: integer (nullable = true)\n",
      " |-- state: string (nullable = true)\n",
      "\n",
      "+---------+----------+\n",
      "|studentId|     state|\n",
      "+---------+----------+\n",
      "|        1|New Mexico|\n",
      "|        2|  New York|\n",
      "|        3|California|\n",
      "|        5|  Colorado|\n",
      "|        6|Washington|\n",
      "|        7|  Colorado|\n",
      "|        9|   Indiana|\n",
      "+---------+----------+\n",
      "\n"
     ]
    }
   ],
   "source": [
    "schema2 = StructType(\n",
    "  [StructField('studentId', IntegerType()),\n",
    "   StructField('state', StringType())] \n",
    ")\n",
    "df2 = spark.read.csv(\"data/states.csv\", schema2)\n",
    "df2.printSchema()\n",
    "df2.show()\n"
   ]
  },
  {
   "cell_type": "code",
   "execution_count": 22,
   "metadata": {},
   "outputs": [
    {
     "name": "stdout",
     "output_type": "stream",
     "text": [
      "+---------+-------+-------+--------+---+--------+-----+---------+----------+\n",
      "|studentId|  fname|  lname|    dept|age|    year|hours|studentId|     state|\n",
      "+---------+-------+-------+--------+---+--------+-----+---------+----------+\n",
      "|        1|   John|  Smith| Biology| 20|  junior|   12|        1|New Mexico|\n",
      "|        2|   Mary|  Jones|Business| 19|freshman|   16|        2|  New York|\n",
      "|        3|   Greg|   Phil| Biology| 23|  senior|    8|        3|California|\n",
      "|        5|    Joe| Garcia|    Math| 19|sophmore|   16|        5|  Colorado|\n",
      "|        6|   Mike|  Kline|    Math| 18|freshman|   12|        6|Washington|\n",
      "|        7|Charles|Mueller|Business| 21|  senior|   16|        7|  Colorado|\n",
      "|        9|    Kay| Givens|Business| 20|sophmore|   12|        9|   Indiana|\n",
      "+---------+-------+-------+--------+---+--------+-----+---------+----------+\n",
      "\n"
     ]
    }
   ],
   "source": [
    " df.join(df2, df.studentId == df2.studentId).show()"
   ]
  },
  {
   "cell_type": "code",
   "execution_count": null,
   "metadata": {},
   "outputs": [],
   "source": []
  }
 ],
 "metadata": {
  "kernelspec": {
   "display_name": "Python 3",
   "language": "python",
   "name": "python3"
  },
  "language_info": {
   "codemirror_mode": {
    "name": "ipython",
    "version": 3
   },
   "file_extension": ".py",
   "mimetype": "text/x-python",
   "name": "python",
   "nbconvert_exporter": "python",
   "pygments_lexer": "ipython3",
   "version": "3.6.7"
  }
 },
 "nbformat": 4,
 "nbformat_minor": 2
}
