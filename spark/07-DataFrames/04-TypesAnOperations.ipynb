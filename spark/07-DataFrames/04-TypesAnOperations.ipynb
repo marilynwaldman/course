{
 "cells": [
  {
   "cell_type": "code",
   "execution_count": 1,
   "metadata": {},
   "outputs": [],
   "source": [
    "import pyspark\n",
    "sc = pyspark.SparkContext('local[*]')"
   ]
  },
  {
   "cell_type": "code",
   "execution_count": 4,
   "metadata": {},
   "outputs": [],
   "source": [
    "from pyspark.sql import SparkSession\n",
    "\n",
    "spark = SparkSession \\\n",
    "    .builder \\\n",
    "    .appName(\"Python Spark SQL basic example\") \\\n",
    "    .config(\"spark.some.config.option\", \"some-value\") \\\n",
    "    .getOrCreate()"
   ]
  },
  {
   "cell_type": "code",
   "execution_count": 27,
   "metadata": {},
   "outputs": [
    {
     "name": "stdout",
     "output_type": "stream",
     "text": [
      "1,2018-04-08,Event 1,12.5,50\r\n",
      "2,2018-05-08,Event 2,35.50,65"
     ]
    }
   ],
   "source": [
    "# show the input file\n",
    "!cat data/datestuff.csv"
   ]
  },
  {
   "cell_type": "code",
   "execution_count": 24,
   "metadata": {},
   "outputs": [],
   "source": [
    "# You must import the type library\n",
    "from pyspark.sql.types import *\n",
    "\n",
    "schema = StructType([\n",
    "    StructField(\"id\",      IntegerType(), True),\n",
    "    StructField(\"date\",    DateType(), True),\n",
    "    StructField(\"event\",    StringType(), True),\n",
    "    StructField(\"cost\", DecimalType(10,2), True),\n",
    "    StructField(\"attendees\", IntegerType(), True)\n",
    "])"
   ]
  },
  {
   "cell_type": "code",
   "execution_count": 28,
   "metadata": {},
   "outputs": [
    {
     "name": "stdout",
     "output_type": "stream",
     "text": [
      "root\n",
      " |-- id: integer (nullable = true)\n",
      " |-- date: date (nullable = true)\n",
      " |-- event: string (nullable = true)\n",
      " |-- cost: decimal(10,2) (nullable = true)\n",
      " |-- attendees: integer (nullable = true)\n",
      "\n",
      "+---+----------+-------+-----+---------+\n",
      "| id|      date|  event| cost|attendees|\n",
      "+---+----------+-------+-----+---------+\n",
      "|  1|2018-04-08|Event 1|12.50|       50|\n",
      "|  2|2018-05-08|Event 2|35.50|       65|\n",
      "+---+----------+-------+-----+---------+\n",
      "\n"
     ]
    }
   ],
   "source": [
    "# read into the df\n",
    "df = spark.read.csv(\"data/datestuff.csv\", schema)\n",
    "df.printSchema()\n",
    "df.show()"
   ]
  },
  {
   "cell_type": "code",
   "execution_count": 30,
   "metadata": {},
   "outputs": [
    {
     "name": "stdout",
     "output_type": "stream",
     "text": [
      "+----------+-------+\n",
      "|      date|  event|\n",
      "+----------+-------+\n",
      "|2018-04-08|Event 1|\n",
      "|2018-05-08|Event 2|\n",
      "+----------+-------+\n",
      "\n"
     ]
    }
   ],
   "source": [
    "df.select(\"date\", \"event\").show()\n"
   ]
  },
  {
   "cell_type": "code",
   "execution_count": 34,
   "metadata": {},
   "outputs": [
    {
     "name": "stdout",
     "output_type": "stream",
     "text": [
      "+---+----------+-------+-----+---------+\n",
      "| id|      date|  event| cost|attendees|\n",
      "+---+----------+-------+-----+---------+\n",
      "|  2|2018-05-08|Event 2|35.50|       65|\n",
      "+---+----------+-------+-----+---------+\n",
      "\n"
     ]
    }
   ],
   "source": [
    "df.filter(\"attendees > 50\" ).show()"
   ]
  },
  {
   "cell_type": "code",
   "execution_count": 35,
   "metadata": {},
   "outputs": [
    {
     "name": "stdout",
     "output_type": "stream",
     "text": [
      "+---+----------+-------+-----+---------+\n",
      "| id|      date|  event| cost|attendees|\n",
      "+---+----------+-------+-----+---------+\n",
      "|  2|2018-05-08|Event 2|35.50|       65|\n",
      "+---+----------+-------+-----+---------+\n",
      "\n"
     ]
    }
   ],
   "source": [
    "df.where(\"attendees > 50\" ).show()"
   ]
  },
  {
   "cell_type": "code",
   "execution_count": 38,
   "metadata": {},
   "outputs": [
    {
     "ename": "TypeError",
     "evalue": "unsupported operand type(s) for /: 'str' and 'int'",
     "output_type": "error",
     "traceback": [
      "\u001b[0;31m---------------------------------------------------------------------------\u001b[0m",
      "\u001b[0;31mTypeError\u001b[0m                                 Traceback (most recent call last)",
      "\u001b[0;32m<ipython-input-38-79db00736e2f>\u001b[0m in \u001b[0;36m<module>\u001b[0;34m\u001b[0m\n\u001b[0;32m----> 1\u001b[0;31m \u001b[0mdf\u001b[0m\u001b[0;34m.\u001b[0m\u001b[0mselect\u001b[0m\u001b[0;34m(\u001b[0m\u001b[0;34m\"attendees\"\u001b[0m \u001b[0;34m/\u001b[0m \u001b[0;36m2\u001b[0m\u001b[0;34m,\u001b[0m \u001b[0;34m\"event\"\u001b[0m\u001b[0;34m)\u001b[0m\u001b[0;34m.\u001b[0m\u001b[0mshow\u001b[0m\u001b[0;34m(\u001b[0m\u001b[0;34m)\u001b[0m\u001b[0;34m\u001b[0m\u001b[0;34m\u001b[0m\u001b[0m\n\u001b[0m",
      "\u001b[0;31mTypeError\u001b[0m: unsupported operand type(s) for /: 'str' and 'int'"
     ]
    }
   ],
   "source": [
    "df.select(\"attendees\" / 2, \"event\").show()"
   ]
  },
  {
   "cell_type": "code",
   "execution_count": null,
   "metadata": {},
   "outputs": [],
   "source": []
  }
 ],
 "metadata": {
  "kernelspec": {
   "display_name": "Python 3",
   "language": "python",
   "name": "python3"
  },
  "language_info": {
   "codemirror_mode": {
    "name": "ipython",
    "version": 3
   },
   "file_extension": ".py",
   "mimetype": "text/x-python",
   "name": "python",
   "nbconvert_exporter": "python",
   "pygments_lexer": "ipython3",
   "version": "3.6.7"
  }
 },
 "nbformat": 4,
 "nbformat_minor": 2
}
