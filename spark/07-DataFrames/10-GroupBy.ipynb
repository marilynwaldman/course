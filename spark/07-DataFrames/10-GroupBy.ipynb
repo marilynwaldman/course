{
 "cells": [
  {
   "cell_type": "code",
   "execution_count": 1,
   "metadata": {},
   "outputs": [],
   "source": [
    "import pyspark\n",
    "sc = pyspark.SparkContext('local[*]')"
   ]
  },
  {
   "cell_type": "code",
   "execution_count": 2,
   "metadata": {},
   "outputs": [],
   "source": [
    "from pyspark.sql import SparkSession\n",
    "\n",
    "spark = SparkSession \\\n",
    "    .builder \\\n",
    "    .appName(\"Python Spark SQL basic example\") \\\n",
    "    .config(\"spark.some.config.option\", \"some-value\") \\\n",
    "    .getOrCreate()"
   ]
  },
  {
   "cell_type": "code",
   "execution_count": 3,
   "metadata": {},
   "outputs": [],
   "source": [
    "from pyspark.sql.types import *\n",
    "\n",
    "schema = StructType(\n",
    "  [StructField('studentId', IntegerType()),\n",
    "   StructField('fname', StringType()),\n",
    "   StructField('lname', StringType()),\n",
    "   StructField('dept', StringType()),\n",
    "   StructField('age', IntegerType()),\n",
    "   StructField('year', StringType()),\n",
    "   StructField('hours', IntegerType())] \n",
    ")\n"
   ]
  },
  {
   "cell_type": "code",
   "execution_count": 4,
   "metadata": {},
   "outputs": [
    {
     "name": "stdout",
     "output_type": "stream",
     "text": [
      "root\n",
      " |-- studentId: integer (nullable = true)\n",
      " |-- fname: string (nullable = true)\n",
      " |-- lname: string (nullable = true)\n",
      " |-- dept: string (nullable = true)\n",
      " |-- age: integer (nullable = true)\n",
      " |-- year: string (nullable = true)\n",
      " |-- hours: integer (nullable = true)\n",
      "\n",
      "+---------+-------+-------+--------+---+--------+-----+\n",
      "|studentId|  fname|  lname|    dept|age|    year|hours|\n",
      "+---------+-------+-------+--------+---+--------+-----+\n",
      "|        1|   John|  Smith| Biology| 20|  junior|   12|\n",
      "|        2|   Mary|  Jones|Business| 19|freshman|   16|\n",
      "|        3|   Greg|   Phil| Biology| 23|  senior|    8|\n",
      "|        4|    Sue|Hillman|Business| 18|freshman|   10|\n",
      "|        5|    Joe| Garcia|    Math| 19|sophmore|   16|\n",
      "|        6|   Mike|  Kline|    Math| 18|freshman|   12|\n",
      "|        7|Charles|Mueller|Business| 21|  senior|   16|\n",
      "|        8|   Jean|  McCay| Biology| 18|freshman|   16|\n",
      "|        9|    Kay| Givens|Business| 20|sophmore|   12|\n",
      "+---------+-------+-------+--------+---+--------+-----+\n",
      "\n"
     ]
    }
   ],
   "source": [
    "from pyspark.sql.types import *\n",
    "\n",
    "df = spark.read.csv(\"data/student.csv\", schema)\n",
    "df.printSchema()\n",
    "df.show()\n"
   ]
  },
  {
   "cell_type": "code",
   "execution_count": 5,
   "metadata": {},
   "outputs": [
    {
     "name": "stdout",
     "output_type": "stream",
     "text": [
      "<class 'pyspark.sql.group.GroupedData'>\n"
     ]
    }
   ],
   "source": [
    "df1 = df.groupBy(\"dept\")\n",
    "print(type(df1))"
   ]
  },
  {
   "cell_type": "code",
   "execution_count": 7,
   "metadata": {},
   "outputs": [
    {
     "ename": "AttributeError",
     "evalue": "'GroupedData' object has no attribute 'show'",
     "output_type": "error",
     "traceback": [
      "\u001b[0;31m---------------------------------------------------------------------------\u001b[0m",
      "\u001b[0;31mAttributeError\u001b[0m                            Traceback (most recent call last)",
      "\u001b[0;32m<ipython-input-7-493f09bee249>\u001b[0m in \u001b[0;36m<module>\u001b[0;34m\u001b[0m\n\u001b[0;32m----> 1\u001b[0;31m \u001b[0mdf\u001b[0m\u001b[0;34m.\u001b[0m\u001b[0mgroupBy\u001b[0m\u001b[0;34m(\u001b[0m\u001b[0;34m\"dept\"\u001b[0m\u001b[0;34m)\u001b[0m\u001b[0;34m.\u001b[0m\u001b[0mshow\u001b[0m\u001b[0;34m(\u001b[0m\u001b[0;34m)\u001b[0m\u001b[0;34m\u001b[0m\u001b[0;34m\u001b[0m\u001b[0m\n\u001b[0m",
      "\u001b[0;31mAttributeError\u001b[0m: 'GroupedData' object has no attribute 'show'"
     ]
    }
   ],
   "source": [
    "df.groupBy(\"dept\").show()"
   ]
  },
  {
   "cell_type": "code",
   "execution_count": 9,
   "metadata": {},
   "outputs": [
    {
     "name": "stdout",
     "output_type": "stream",
     "text": [
      "+--------+-----+\n",
      "|    dept|count|\n",
      "+--------+-----+\n",
      "|    Math|    2|\n",
      "|Business|    4|\n",
      "| Biology|    3|\n",
      "+--------+-----+\n",
      "\n"
     ]
    }
   ],
   "source": [
    "df.groupBy(\"dept\").count().show()"
   ]
  },
  {
   "cell_type": "code",
   "execution_count": 10,
   "metadata": {},
   "outputs": [
    {
     "name": "stdout",
     "output_type": "stream",
     "text": [
      "+--------+---+-----+\n",
      "|    dept|age|count|\n",
      "+--------+---+-----+\n",
      "|    Math| 18|    1|\n",
      "| Biology| 18|    1|\n",
      "|Business| 18|    1|\n",
      "|Business| 19|    1|\n",
      "|    Math| 19|    1|\n",
      "| Biology| 20|    1|\n",
      "|Business| 20|    1|\n",
      "|Business| 21|    1|\n",
      "| Biology| 23|    1|\n",
      "+--------+---+-----+\n",
      "\n"
     ]
    }
   ],
   "source": [
    "df.groupBy(\"dept\", \"age\").count().orderBy(\"age\").show()"
   ]
  },
  {
   "cell_type": "code",
   "execution_count": 11,
   "metadata": {},
   "outputs": [
    {
     "name": "stdout",
     "output_type": "stream",
     "text": [
      "+--------+----------------+----------+------------------+\n",
      "|    dept|count(studentId)|sum(hours)|          avg(age)|\n",
      "+--------+----------------+----------+------------------+\n",
      "|    Math|               2|        28|              18.5|\n",
      "|Business|               4|        54|              19.5|\n",
      "| Biology|               3|        36|20.333333333333332|\n",
      "+--------+----------------+----------+------------------+\n",
      "\n"
     ]
    }
   ],
   "source": [
    "df.groupBy(\"dept\").agg({'age':'avg', 'hours':'sum', 'studentId' : 'count'}).show()"
   ]
  },
  {
   "cell_type": "code",
   "execution_count": null,
   "metadata": {},
   "outputs": [],
   "source": []
  }
 ],
 "metadata": {
  "kernelspec": {
   "display_name": "Python 3",
   "language": "python",
   "name": "python3"
  },
  "language_info": {
   "codemirror_mode": {
    "name": "ipython",
    "version": 3
   },
   "file_extension": ".py",
   "mimetype": "text/x-python",
   "name": "python",
   "nbconvert_exporter": "python",
   "pygments_lexer": "ipython3",
   "version": "3.6.7"
  }
 },
 "nbformat": 4,
 "nbformat_minor": 2
}
