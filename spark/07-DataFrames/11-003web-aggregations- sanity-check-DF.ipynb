{
 "cells": [
  {
   "cell_type": "code",
   "execution_count": 1,
   "metadata": {},
   "outputs": [],
   "source": [
    "import re\n",
    "import datetime\n",
    "import pyspark\n",
    "\n",
    "from pyspark.sql import Row\n",
    "from pyspark import SparkContext\n",
    "import sys\n",
    "import os\n",
    "from operator import add\n",
    "\n",
    "sc = pyspark.SparkContext('local[*]')\n",
    "\n",
    "from pyspark.sql import SQLContext\n",
    "sqlContext = SQLContext(sc)\n"
   ]
  },
  {
   "cell_type": "code",
   "execution_count": 2,
   "metadata": {},
   "outputs": [
    {
     "name": "stdout",
     "output_type": "stream",
     "text": [
      "+-------+-----+\n",
      "|   name|count|\n",
      "+-------+-----+\n",
      "|Anthony|   10|\n",
      "|  Julia|   20|\n",
      "|   Fred|    5|\n",
      "+-------+-----+\n",
      "\n",
      "+-----+\n",
      "|count|\n",
      "+-----+\n",
      "|   10|\n",
      "|   20|\n",
      "|    5|\n",
      "+-----+\n",
      "\n"
     ]
    }
   ],
   "source": [
    "df = sqlContext.createDataFrame([('Anthony', 10), ('Julia', 20), ('Fred', 5)], ('name', 'count'))\n",
    "df.show() # This line does not work. Please comment it out later.\n",
    "df.select(df['count']).show()"
   ]
  },
  {
   "cell_type": "code",
   "execution_count": 3,
   "metadata": {},
   "outputs": [
    {
     "name": "stdout",
     "output_type": "stream",
     "text": [
      "root\n",
      " |-- value: string (nullable = true)\n",
      "\n"
     ]
    }
   ],
   "source": [
    "base_df = sqlContext.read.text('data/usask_access_sanity_check_log')\n",
    "# Let's look at the schema\n",
    "base_df.printSchema()"
   ]
  },
  {
   "cell_type": "code",
   "execution_count": 4,
   "metadata": {},
   "outputs": [
    {
     "name": "stdout",
     "output_type": "stream",
     "text": [
      "16\n",
      "+-----------------------------------------------------------------------------------------------+\n",
      "|value                                                                                          |\n",
      "+-----------------------------------------------------------------------------------------------+\n",
      "|skul2.usask.ca - - [15/Jun/1995:13:59:11 -0600] \"GET /images/logo.gif HTTP/1.0\" 200 2273       |\n",
      "|bell.usask.ca - - [15/Jun/1995:13:59:32 -0600] \"GET /images/logo.gif HTTP/1.0\" 304 0           |\n",
      "|142.99.48.34 - - [15/Jun/1995:13:59:36 -0600] \"GET /images/logo.gif HTTP/1.0\" 200 2273         |\n",
      "|villi.usask.ca - - [15/Jun/1995:14:00:49 -0600] \"GET /images/logo.gif HTTP/1.0\" 304 0          |\n",
      "|chemeng03 - - [15/Jun/1995:14:02:07 -0600] \"GET /images/logo.gif HTTP/1.0\" 200 2273            |\n",
      "|pukatea.its.vuw.ac.nz - - [15/Jun/1995:14:03:50 -0600] \"GET /images/logo.gif HTTP/1.0\" 200 2273|\n",
      "|gp108008.usask.ca - - [15/Jun/1995:14:04:10 -0600] \"GET /images/logo.gif HTTP/1.0\" 304 0       |\n",
      "|villi.usask.ca - - [15/Jun/1995:14:04:14 -0600] \"GET /images/logo.gif HTTP/1.0\" 304 0          |\n",
      "|gp108008.usask.ca - - [15/Jun/1995:14:05:30 -0600] \"GET /images/logo.gif HTTP/1.0\" 304 0       |\n",
      "|gp108008.usask.ca - - [15/Jun/1995:14:05:38 -0600] \"GET /images/logo.gif HTTP/1.0\" 304 0       |\n",
      "|gp108008.usask.ca - - [15/Jun/1995:14:05:39 -0600] \"GET /images/logo.gif HTTP/1.0\" 500 0       |\n",
      "|gp108008.usask.ca - - [15/Jun/1995:14:05:49 -0600] \"GET /images/logo.gif HTTP/1.0\" 502 0       |\n",
      "|psych150.usask.ca - - [15/Jun/1995:14:06:32 -0600] \"GET /images/logo.gif HTTP/1.0\" 200 2273    |\n",
      "|psych150.usask.ca - - [15/Jun/1995:14:05:45 -0600] \"GET /images/logo.gif HTTP/1.0\" 502 0       |\n",
      "|eng37.usask.ca - - [15/Jun/1995:14:07:03 -0600] \"GET /images/logo.gif HTTP/1.0\" 200 2273       |\n",
      "|artslab42.usask.ca - - [15/Jun/1995:14:07:03 -0600] \"GET /images/logo.gif HTTP/1.0\" 200 2273   |\n",
      "+-----------------------------------------------------------------------------------------------+\n",
      "\n"
     ]
    }
   ],
   "source": [
    "print(base_df.count())\n",
    "base_df.show(truncate=False)\n"
   ]
  },
  {
   "cell_type": "code",
   "execution_count": 5,
   "metadata": {},
   "outputs": [
    {
     "name": "stdout",
     "output_type": "stream",
     "text": [
      "+----------------------+--------------------------+----------------+------+------------+\n",
      "|host                  |timestamp                 |path            |status|content_size|\n",
      "+----------------------+--------------------------+----------------+------+------------+\n",
      "|skul2.usask.ca        |15/Jun/1995:13:59:11 -0600|/images/logo.gif|200   |2273        |\n",
      "|bell.usask.ca         |15/Jun/1995:13:59:32 -0600|/images/logo.gif|304   |0           |\n",
      "|142.99.48.34          |15/Jun/1995:13:59:36 -0600|/images/logo.gif|200   |2273        |\n",
      "|villi.usask.ca        |15/Jun/1995:14:00:49 -0600|/images/logo.gif|304   |0           |\n",
      "|chemeng03             |15/Jun/1995:14:02:07 -0600|/images/logo.gif|200   |2273        |\n",
      "|pukatea.its.vuw.ac.nz |15/Jun/1995:14:03:50 -0600|/images/logo.gif|200   |2273        |\n",
      "|gp108008.usask.ca     |15/Jun/1995:14:04:10 -0600|/images/logo.gif|304   |0           |\n",
      "|villi.usask.ca        |15/Jun/1995:14:04:14 -0600|/images/logo.gif|304   |0           |\n",
      "|gp108008.usask.ca     |15/Jun/1995:14:05:30 -0600|/images/logo.gif|304   |0           |\n",
      "|gp108008.usask.ca     |15/Jun/1995:14:05:38 -0600|/images/logo.gif|304   |0           |\n",
      "|gp108008.usask.ca     |15/Jun/1995:14:05:39 -0600|/images/logo.gif|500   |0           |\n",
      "|gp108008.usask.ca     |15/Jun/1995:14:05:49 -0600|/images/logo.gif|502   |0           |\n",
      "|psych150.usask.ca     |15/Jun/1995:14:06:32 -0600|/images/logo.gif|200   |2273        |\n",
      "|psych150.usask.ca     |15/Jun/1995:14:05:45 -0600|/images/logo.gif|502   |0           |\n",
      "|eng37.usask.ca        |15/Jun/1995:14:07:03 -0600|/images/logo.gif|200   |2273        |\n",
      "|artslab42.usask.ca    |15/Jun/1995:14:07:03 -0600|/images/logo.gif|200   |2273        |\n",
      "+----------------------+--------------------------+----------------+------+------------+\n",
      "\n"
     ]
    }
   ],
   "source": [
    "from pyspark.sql.functions import split, regexp_extract\n",
    "parsed_df = base_df.select(regexp_extract('value', r'^([^\\s]+\\s)', 1).alias('host'),\n",
    "                          regexp_extract('value', r'^.*\\[(\\d\\d/\\w{3}/\\d{4}:\\d{2}:\\d{2}:\\d{2} -\\d{4})]', 1).alias('timestamp'),\n",
    "                          regexp_extract('value', r'^.*\"\\w+\\s+([^\\s]+)\\s+HTTP.*\"', 1).alias('path'),\n",
    "                          regexp_extract('value', r'^.*\"\\s+([^\\s]+)', 1).cast('integer').alias('status'),\n",
    "                          regexp_extract('value', r'^.*\\s+(\\d+)$', 1).cast('integer').alias('content_size'))\n",
    "parsed_df.show(truncate=False)"
   ]
  },
  {
   "cell_type": "code",
   "execution_count": 6,
   "metadata": {},
   "outputs": [
    {
     "name": "stdout",
     "output_type": "stream",
     "text": [
      "+----+---------+----+------+------------+\n",
      "|host|timestamp|path|status|content_size|\n",
      "+----+---------+----+------+------------+\n",
      "+----+---------+----+------+------------+\n",
      "\n"
     ]
    },
    {
     "data": {
      "text/plain": [
       "0"
      ]
     },
     "execution_count": 6,
     "metadata": {},
     "output_type": "execute_result"
    }
   ],
   "source": [
    "df = parsed_df.filter(parsed_df['path'].isNull())\n",
    "df.show()\n",
    "df.count()"
   ]
  },
  {
   "cell_type": "code",
   "execution_count": 7,
   "metadata": {},
   "outputs": [
    {
     "name": "stdout",
     "output_type": "stream",
     "text": [
      "+----+---------+----+------+------------+\n",
      "|host|timestamp|path|status|content_size|\n",
      "+----+---------+----+------+------------+\n",
      "+----+---------+----+------+------------+\n",
      "\n"
     ]
    },
    {
     "data": {
      "text/plain": [
       "0"
      ]
     },
     "execution_count": 7,
     "metadata": {},
     "output_type": "execute_result"
    }
   ],
   "source": [
    "df = parsed_df.filter(parsed_df['content_size'].isNull())\n",
    "df.show()\n",
    "df.count()"
   ]
  },
  {
   "cell_type": "markdown",
   "metadata": {},
   "source": [
    "Note: In the expression below, ~ means \"not\"."
   ]
  },
  {
   "cell_type": "code",
   "execution_count": 10,
   "metadata": {},
   "outputs": [
    {
     "name": "stdout",
     "output_type": "stream",
     "text": [
      "+--------------------+--------------------+----------------+------+------------+\n",
      "|                host|           timestamp|            path|status|content_size|\n",
      "+--------------------+--------------------+----------------+------+------------+\n",
      "|     skul2.usask.ca |15/Jun/1995:13:59...|/images/logo.gif|   200|        2273|\n",
      "|      bell.usask.ca |15/Jun/1995:13:59...|/images/logo.gif|   304|           0|\n",
      "|       142.99.48.34 |15/Jun/1995:13:59...|/images/logo.gif|   200|        2273|\n",
      "|     villi.usask.ca |15/Jun/1995:14:00...|/images/logo.gif|   304|           0|\n",
      "|          chemeng03 |15/Jun/1995:14:02...|/images/logo.gif|   200|        2273|\n",
      "|pukatea.its.vuw.a...|15/Jun/1995:14:03...|/images/logo.gif|   200|        2273|\n",
      "|  gp108008.usask.ca |15/Jun/1995:14:04...|/images/logo.gif|   304|           0|\n",
      "|     villi.usask.ca |15/Jun/1995:14:04...|/images/logo.gif|   304|           0|\n",
      "|  gp108008.usask.ca |15/Jun/1995:14:05...|/images/logo.gif|   304|           0|\n",
      "|  gp108008.usask.ca |15/Jun/1995:14:05...|/images/logo.gif|   304|           0|\n",
      "|  gp108008.usask.ca |15/Jun/1995:14:05...|/images/logo.gif|   500|           0|\n",
      "|  gp108008.usask.ca |15/Jun/1995:14:05...|/images/logo.gif|   502|           0|\n",
      "|  psych150.usask.ca |15/Jun/1995:14:06...|/images/logo.gif|   200|        2273|\n",
      "|  psych150.usask.ca |15/Jun/1995:14:05...|/images/logo.gif|   502|           0|\n",
      "|     eng37.usask.ca |15/Jun/1995:14:07...|/images/logo.gif|   200|        2273|\n",
      "| artslab42.usask.ca |15/Jun/1995:14:07...|/images/logo.gif|   200|        2273|\n",
      "+--------------------+--------------------+----------------+------+------------+\n",
      "\n"
     ]
    },
    {
     "data": {
      "text/plain": [
       "16"
      ]
     },
     "execution_count": 10,
     "metadata": {},
     "output_type": "execute_result"
    }
   ],
   "source": [
    "df = parsed_df.filter(~parsed_df['content_size'].isNull())\n",
    "df.show()\n",
    "df.count()"
   ]
  },
  {
   "cell_type": "code",
   "execution_count": 12,
   "metadata": {},
   "outputs": [
    {
     "data": {
      "text/plain": [
       "16"
      ]
     },
     "execution_count": 12,
     "metadata": {},
     "output_type": "execute_result"
    }
   ],
   "source": [
    "filtered_df = parsed_df.filter(~ (parsed_df['host'].isNull() |\n",
    "                                 parsed_df['timestamp'].isNull() |\n",
    "                                 parsed_df['path'].isNull() |\n",
    "                                 parsed_df['status'].isNull() |\n",
    "                                 parsed_df['content_size'].isNull()))\n",
    "filtered_df.count()"
   ]
  },
  {
   "cell_type": "code",
   "execution_count": 13,
   "metadata": {},
   "outputs": [
    {
     "name": "stdout",
     "output_type": "stream",
     "text": [
      "Using SQL functions:\n",
      "Content Size Avg: 994.44; Min: 0.00; Max: 2,273\n"
     ]
    }
   ],
   "source": [
    "from pyspark.sql import functions as sqlFunctions\n",
    "content_size_stats =  (filtered_df\n",
    "                       .agg(sqlFunctions.min(filtered_df['content_size']),\n",
    "                            sqlFunctions.avg(filtered_df['content_size']),\n",
    "                            sqlFunctions.max(filtered_df['content_size']))\n",
    "                       .first())\n",
    "\n",
    "print ('Using SQL functions:')\n",
    "print ('Content Size Avg: {1:,.2f}; Min: {0:.2f}; Max: {2:,.0f}'.format(*content_size_stats))"
   ]
  },
  {
   "cell_type": "code",
   "execution_count": 14,
   "metadata": {},
   "outputs": [
    {
     "name": "stdout",
     "output_type": "stream",
     "text": [
      "Found 4 response codes\n",
      "+------+-----+\n",
      "|status|count|\n",
      "+------+-----+\n",
      "|   200|    7|\n",
      "|   304|    6|\n",
      "|   500|    1|\n",
      "|   502|    2|\n",
      "+------+-----+\n",
      "\n"
     ]
    }
   ],
   "source": [
    "status_to_count_df =(filtered_df\n",
    "                     .groupBy('status')\n",
    "                     .count()\n",
    "                     .sort('status')\n",
    "                     .cache())\n",
    "\n",
    "status_to_count_length = status_to_count_df.count()\n",
    "print ('Found %d response codes' % status_to_count_length)\n",
    "status_to_count_df.show()"
   ]
  },
  {
   "cell_type": "code",
   "execution_count": 15,
   "metadata": {},
   "outputs": [
    {
     "name": "stdout",
     "output_type": "stream",
     "text": [
      "Found 4 response codes\n",
      "+----------------+------+-----+\n",
      "|            path|status|count|\n",
      "+----------------+------+-----+\n",
      "|/images/logo.gif|   502|    2|\n",
      "|/images/logo.gif|   304|    6|\n",
      "|/images/logo.gif|   500|    1|\n",
      "|/images/logo.gif|   200|    7|\n",
      "+----------------+------+-----+\n",
      "\n"
     ]
    }
   ],
   "source": [
    "\n",
    "status_to_count_df =(filtered_df\n",
    "                     .groupBy('path', 'status')\n",
    "                     .count()\n",
    "                     .orderBy('path' )\n",
    "                     .cache())\n",
    "\n",
    "status_to_count_length = status_to_count_df.count()\n",
    "print ('Found %d response codes' % status_to_count_length)\n",
    "status_to_count_df.show()"
   ]
  },
  {
   "cell_type": "code",
   "execution_count": 16,
   "metadata": {},
   "outputs": [
    {
     "name": "stdout",
     "output_type": "stream",
     "text": [
      "Found 1 response codes\n",
      "+----------------+-----+\n",
      "|            path|count|\n",
      "+----------------+-----+\n",
      "|/images/logo.gif|   16|\n",
      "+----------------+-----+\n",
      "\n"
     ]
    }
   ],
   "source": [
    "\n",
    "status_to_count_df =(filtered_df\n",
    "                     .groupBy('path')\n",
    "                     .count()\n",
    "                     .sort('path', ascending=False)\n",
    "                     .cache())\n",
    "\n",
    "status_to_count_length = status_to_count_df.count()\n",
    "print ('Found %d response codes' % status_to_count_length)\n",
    "status_to_count_df.show()"
   ]
  },
  {
   "cell_type": "code",
   "execution_count": null,
   "metadata": {},
   "outputs": [],
   "source": [
    "status_to_count_df =(filtered_df\n",
    "                     .groupBy('path', 'status')\n",
    "                     .count()\n",
    "                     .sort('count', ascending=False)\n",
    "                     .cache())\n",
    "\n",
    "status_to_count_length = status_to_count_df.count()\n",
    "print ('Found %d response codes' % status_to_count_length)\n",
    "status_to_count_df.show()"
   ]
  },
  {
   "cell_type": "code",
   "execution_count": null,
   "metadata": {},
   "outputs": [],
   "source": [
    "not200_df = filtered_df.filter(filtered_df['status'] != 200)\n",
    "not200_df.show()"
   ]
  },
  {
   "cell_type": "code",
   "execution_count": null,
   "metadata": {},
   "outputs": [],
   "source": [
    "not200_df_to_count_df =(not200_df\n",
    "                     .groupBy('path', 'status')\n",
    "                     .count()\n",
    "                     .sort('status', ascending=False)\n",
    "                     .cache())\n",
    "\n",
    "status_to_count_length = not200_df_to_count_df.count()\n",
    "print ('Found %d response codes' % status_to_count_length)\n",
    "not200_df_to_count_df.show()"
   ]
  },
  {
   "cell_type": "code",
   "execution_count": null,
   "metadata": {},
   "outputs": [],
   "source": [
    "not200_df_to_count_df =(not200_df\n",
    "                     .groupBy('path')\n",
    "                     .count()\n",
    "                     .sort('count', ascending=False)\n",
    "                     .cache())\n",
    "\n",
    "status_to_count_length = not200_df_to_count_df.count()\n",
    "print ('Found %d response codes' % status_to_count_length)\n",
    "not200_df_to_count_df.show()"
   ]
  },
  {
   "cell_type": "code",
   "execution_count": null,
   "metadata": {},
   "outputs": [],
   "source": [
    "\n",
    "    \n",
    "status_to_count_df =(filtered_df\n",
    "                     .groupBy('host')\n",
    "                     .agg(sqlFunctions.min(filtered_df['content_size']),\n",
    "                            sqlFunctions.avg(filtered_df['content_size']),\n",
    "                            sqlFunctions.max(filtered_df['content_size']),\n",
    "                            sqlFunctions.count(filtered_df['host']))\n",
    "                     .sort('count(host)', ascending=False)\n",
    "                     .cache())\n",
    "\n",
    "status_to_count_length = status_to_count_df.count()\n",
    "print ('Found %d response codes' % status_to_count_length)\n",
    "status_to_count_df.show()    "
   ]
  },
  {
   "cell_type": "code",
   "execution_count": null,
   "metadata": {},
   "outputs": [],
   "source": [
    "   status_to_count_df =(not200_df\n",
    "                     .groupBy('host', 'status')\n",
    "                     .agg(sqlFunctions.min(filtered_df['content_size']),\n",
    "                            sqlFunctions.avg(filtered_df['content_size']),\n",
    "                            sqlFunctions.max(filtered_df['content_size']),\n",
    "                            sqlFunctions.count(filtered_df['host']))\n",
    "                     .sort('host', ascending=False)\n",
    "                     .cache())\n",
    "\n",
    "status_to_count_length = status_to_count_df.count()\n",
    "print ('Found %d response codes' % status_to_count_length)\n",
    "status_to_count_df.show() "
   ]
  },
  {
   "cell_type": "code",
   "execution_count": null,
   "metadata": {},
   "outputs": [],
   "source": []
  }
 ],
 "metadata": {
  "kernelspec": {
   "display_name": "Python 3",
   "language": "python",
   "name": "python3"
  },
  "language_info": {
   "codemirror_mode": {
    "name": "ipython",
    "version": 3
   },
   "file_extension": ".py",
   "mimetype": "text/x-python",
   "name": "python",
   "nbconvert_exporter": "python",
   "pygments_lexer": "ipython3",
   "version": "3.6.7"
  }
 },
 "nbformat": 4,
 "nbformat_minor": 2
}
